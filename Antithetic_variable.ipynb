{
 "cells": [
  {
   "cell_type": "code",
   "execution_count": 1,
   "id": "5ad07226",
   "metadata": {},
   "outputs": [],
   "source": [
    "import numpy as np\n",
    "import pandas as pd\n",
    "from numpy.random import default_rng, SeedSequence\n",
    "import scipy.stats as sps\n",
    "import matplotlib.pyplot as plt\n",
    "from scipy.stats import norm\n",
    "import warnings\n",
    "\n",
    "sq = SeedSequence()\n",
    "seed = sq.entropy\n",
    "rng = default_rng(sq)"
   ]
  },
  {
   "cell_type": "markdown",
   "id": "e183e619",
   "metadata": {},
   "source": [
    "### Tools"
   ]
  },
  {
   "cell_type": "code",
   "execution_count": 2,
   "id": "3cbd35df",
   "metadata": {},
   "outputs": [],
   "source": [
    "def brownian_1d(n_times: int, n_paths: int, \n",
    "                final_time: float=1.0, \n",
    "                increments: bool=False, \n",
    "                random_state: np.random.Generator=rng) -> np.array:\n",
    "    \"\"\"Simulate paths of standard Brownian motion\n",
    "    Args:\n",
    "        n_times: Number of timesteps\n",
    "        n_paths: Number of paths \n",
    "        final_time: Final time of simulation\n",
    "        increments: If `True` the increments of the paths are returned.\n",
    "        random_state: `np.random.Generator` used for simulation\n",
    "    Returns:\n",
    "        `np.array` of shape `(n_times+1, n_paths)` containing the paths if the argument `increments` is `False`\n",
    "        `np.array` of shape `(n_times, n_paths)` containing the increments if the argument `increments` is `True`\n",
    "    \"\"\"\n",
    "    dB = np.sqrt(final_time / n_times) * random_state.standard_normal((n_times, n_paths))\n",
    "    if increments:\n",
    "        return dB\n",
    "    else:\n",
    "        brownian = np.zeros((n_times+1, n_paths))\n",
    "        brownian[1:] = np.cumsum(dB, axis=0)\n",
    "        return brownian"
   ]
  },
  {
   "cell_type": "code",
   "execution_count": 3,
   "id": "95506b23",
   "metadata": {},
   "outputs": [],
   "source": [
    "def black_scholes_1d(n_times: int, n_paths: int, \n",
    "                     final_time: float=1.0, \n",
    "                     random_state: np.random.Generator=rng, *,\n",
    "                     init_value: float,\n",
    "                     r: float, sigma: float) -> np.array:\n",
    "    \"\"\"Simulate paths of Black-Scholes process\n",
    "    Args:\n",
    "        n_times: Number of timesteps\n",
    "        n_paths: Number of paths \n",
    "        final_time: Final time of simulation\n",
    "        init_value: `S0`\n",
    "        r: Interest rate\n",
    "        sigma: Volatility\n",
    "        random_state: `np.random.Generator` used for simulation\n",
    "    Returns:\n",
    "        `np.array` of shape `(n_times+1, n_paths)` containing the paths \n",
    "    \"\"\"\n",
    "    Bt = brownian_1d(n_times, n_paths)\n",
    "    times = np.arange(n_times+1)*(1/n_times)\n",
    "    t = times[:, np.newaxis]\n",
    "    St = init_value * np.exp((r - 0.5*sigma**2)*t + sigma*Bt)\n",
    "    return St"
   ]
  },
  {
   "cell_type": "code",
   "execution_count": 4,
   "id": "f6295d54",
   "metadata": {},
   "outputs": [],
   "source": [
    "# une fonction BS pour un payoff qui n'est pas path-dependent (offre plus de liberté pour le choix des gaussiennes dans la fonction)\n",
    "def BS(x,r,sigma,T,N):\n",
    "    \"\"\" args :\n",
    "            x=spot\n",
    "            r=interest rate\n",
    "            sigma=volatility\n",
    "            T=maturity\n",
    "            N=simulated standard normal random variable\n",
    "    \"\"\"\n",
    "    return  x*np.exp((r-(sigma**2)/2)*T+sigma*np.sqrt(T)*N)\n",
    "\n",
    "# une fonction de payoff du call et sa dérivée par rapport à S_T\n",
    "def payoff_call(S,r,T,K): return np.exp(-r*T)*np.maximum(S-K,0)\n",
    "def payoff_put(S,r,T,K): return np.exp(-r*T)*np.maximum(K-S,0)\n",
    "\n",
    "def call_derive(S,r,T,K): return np.exp(-r*T)*np.where(S>K,1,0)"
   ]
  },
  {
   "cell_type": "code",
   "execution_count": 5,
   "id": "b4d25e1f",
   "metadata": {},
   "outputs": [],
   "source": [
    "def monte_carlo(sample, proba = 0.95):\n",
    "    mean = np.mean(sample)\n",
    "    var = np.var(sample, ddof=1)\n",
    "    alpha = 1 - proba \n",
    "    quantile = norm.ppf(1 - alpha/2)  # fonction quantile \n",
    "    ci_size = quantile * np.sqrt(var / sample.size)\n",
    "    return (mean, var, mean - ci_size, mean + ci_size)"
   ]
  },
  {
   "cell_type": "code",
   "execution_count": 6,
   "id": "245bbfb2",
   "metadata": {},
   "outputs": [],
   "source": [
    "# Les formules fermées de Black-Scholes pour vérifier nos méthodes de MC\n",
    "\n",
    "def d1(spot, t, r, sigma, strike):\n",
    "    return (np.log(spot / strike) + t * (r + 0.5*sigma**2)) / (sigma * np.sqrt(t))\n",
    "\n",
    "def d2(spot, t, r, sigma, strike):\n",
    "    return d1(spot, t, r, sigma, strike) - sigma * np.sqrt(t)\n",
    "\n",
    "def price_call_BS(spot, t, r, sigma, strike):\n",
    "    d1_ = d1(spot, t, r, sigma, strike)\n",
    "    d2_ = d2(spot, t, r, sigma, strike)\n",
    "    return spot * norm.cdf(d1_) - strike * np.exp(-r * t) * norm.cdf(d2_)\n",
    "\n",
    "def delta_BS(spot, t, r, sigma, strike):\n",
    "    d1_ = d1(spot, t, r, sigma, strike)\n",
    "    return norm.cdf(d1_)"
   ]
  },
  {
   "cell_type": "markdown",
   "id": "6bf772c9",
   "metadata": {},
   "source": [
    "### Standard MC"
   ]
  },
  {
   "cell_type": "code",
   "execution_count": 7,
   "id": "242f1541",
   "metadata": {},
   "outputs": [],
   "source": [
    "# Fixons les paramètres\n",
    "\n",
    "S0 = 100\n",
    "T=1\n",
    "K=100\n",
    "r, sigma = 0.04, 0.20"
   ]
  },
  {
   "cell_type": "code",
   "execution_count": 8,
   "id": "1cf4381e",
   "metadata": {},
   "outputs": [
    {
     "data": {
      "text/html": [
       "<div>\n",
       "<style scoped>\n",
       "    .dataframe tbody tr th:only-of-type {\n",
       "        vertical-align: middle;\n",
       "    }\n",
       "\n",
       "    .dataframe tbody tr th {\n",
       "        vertical-align: top;\n",
       "    }\n",
       "\n",
       "    .dataframe thead th {\n",
       "        text-align: right;\n",
       "    }\n",
       "</style>\n",
       "<table border=\"1\" class=\"dataframe\">\n",
       "  <thead>\n",
       "    <tr style=\"text-align: right;\">\n",
       "      <th></th>\n",
       "      <th>1000</th>\n",
       "      <th>10000</th>\n",
       "      <th>100000</th>\n",
       "      <th>1000000</th>\n",
       "      <th>10000000</th>\n",
       "    </tr>\n",
       "  </thead>\n",
       "  <tbody>\n",
       "    <tr>\n",
       "      <th>Mean</th>\n",
       "      <td>9.712122</td>\n",
       "      <td>10.042327</td>\n",
       "      <td>9.886496</td>\n",
       "      <td>9.926891</td>\n",
       "      <td>9.926359</td>\n",
       "    </tr>\n",
       "    <tr>\n",
       "      <th>Var</th>\n",
       "      <td>189.080850</td>\n",
       "      <td>207.154298</td>\n",
       "      <td>206.833680</td>\n",
       "      <td>208.259954</td>\n",
       "      <td>207.870333</td>\n",
       "    </tr>\n",
       "    <tr>\n",
       "      <th>Lower</th>\n",
       "      <td>8.859863</td>\n",
       "      <td>9.760233</td>\n",
       "      <td>9.797359</td>\n",
       "      <td>9.898607</td>\n",
       "      <td>9.917422</td>\n",
       "    </tr>\n",
       "    <tr>\n",
       "      <th>Upper</th>\n",
       "      <td>10.564382</td>\n",
       "      <td>10.324422</td>\n",
       "      <td>9.975634</td>\n",
       "      <td>9.955176</td>\n",
       "      <td>9.935295</td>\n",
       "    </tr>\n",
       "  </tbody>\n",
       "</table>\n",
       "</div>"
      ],
      "text/plain": [
       "         1000        10000       100000      1000000     10000000\n",
       "Mean     9.712122   10.042327    9.886496    9.926891    9.926359\n",
       "Var    189.080850  207.154298  206.833680  208.259954  207.870333\n",
       "Lower    8.859863    9.760233    9.797359    9.898607    9.917422\n",
       "Upper   10.564382   10.324422    9.975634    9.955176    9.935295"
      ]
     },
     "execution_count": 8,
     "metadata": {},
     "output_type": "execute_result"
    }
   ],
   "source": [
    "Ms = 10**np.arange(3, 8)\n",
    "results = pd.DataFrame(index=['Mean', 'Var', 'Lower', 'Upper'], columns=Ms)\n",
    "for M in Ms:\n",
    "    gaussiennes = rng.standard_normal(M)\n",
    "    payoffs=payoff_call(BS(x=S0,r=r,sigma=sigma,T=T,N=gaussiennes),r=r,T=T,K=K)\n",
    "    results[M] = monte_carlo(payoffs)\n",
    "results"
   ]
  },
  {
   "cell_type": "code",
   "execution_count": 9,
   "id": "f003f22a",
   "metadata": {},
   "outputs": [
    {
     "data": {
      "text/plain": [
       "9.925053717274437"
      ]
     },
     "execution_count": 9,
     "metadata": {},
     "output_type": "execute_result"
    }
   ],
   "source": [
    "price_call_BS(S0, T, r, sigma, K)"
   ]
  },
  {
   "cell_type": "markdown",
   "id": "b7abde10",
   "metadata": {},
   "source": [
    "# Antithetic variable method"
   ]
  },
  {
   "cell_type": "markdown",
   "id": "562f710d",
   "metadata": {},
   "source": [
    "Standard european option pricing. \\\n",
    "standard Call :\n",
    "$$\n",
    "X=(S_T - K)^+\n",
    "$$\n",
    "Synthetic Call with parity :\n",
    "$$\n",
    "X'=S_0-e^{-rT}K+e^{-rT}(K-S_T)^+\n",
    "$$\n",
    "Interpolated Call :\n",
    "$$\n",
    "\\tilde{X}=\\frac{X+X'}{2}\n",
    "$$"
   ]
  },
  {
   "cell_type": "code",
   "execution_count": 35,
   "id": "24efcc3a",
   "metadata": {},
   "outputs": [],
   "source": [
    "S0 = 100\n",
    "T=1\n",
    "K=100\n",
    "r, sigma = 0.04, 0.20"
   ]
  },
  {
   "cell_type": "code",
   "execution_count": 36,
   "id": "75a7d9e6",
   "metadata": {},
   "outputs": [
    {
     "data": {
      "text/html": [
       "<div>\n",
       "<style scoped>\n",
       "    .dataframe tbody tr th:only-of-type {\n",
       "        vertical-align: middle;\n",
       "    }\n",
       "\n",
       "    .dataframe tbody tr th {\n",
       "        vertical-align: top;\n",
       "    }\n",
       "\n",
       "    .dataframe thead th {\n",
       "        text-align: right;\n",
       "    }\n",
       "</style>\n",
       "<table border=\"1\" class=\"dataframe\">\n",
       "  <thead>\n",
       "    <tr style=\"text-align: right;\">\n",
       "      <th></th>\n",
       "      <th>1000</th>\n",
       "      <th>10000</th>\n",
       "      <th>100000</th>\n",
       "      <th>1000000</th>\n",
       "      <th>10000000</th>\n",
       "    </tr>\n",
       "  </thead>\n",
       "  <tbody>\n",
       "    <tr>\n",
       "      <th>Crude Call</th>\n",
       "      <td>10.570629</td>\n",
       "      <td>10.210775</td>\n",
       "      <td>9.937660</td>\n",
       "      <td>9.931915</td>\n",
       "      <td>9.922200</td>\n",
       "    </tr>\n",
       "    <tr>\n",
       "      <th>Var Crude</th>\n",
       "      <td>225.856190</td>\n",
       "      <td>219.779614</td>\n",
       "      <td>208.017530</td>\n",
       "      <td>207.995431</td>\n",
       "      <td>207.884732</td>\n",
       "    </tr>\n",
       "    <tr>\n",
       "      <th>Synthetic Parity Call</th>\n",
       "      <td>9.693054</td>\n",
       "      <td>9.959306</td>\n",
       "      <td>9.911736</td>\n",
       "      <td>9.916269</td>\n",
       "      <td>9.923262</td>\n",
       "    </tr>\n",
       "    <tr>\n",
       "      <th>Var Synthetic</th>\n",
       "      <td>81.216591</td>\n",
       "      <td>80.668488</td>\n",
       "      <td>81.154639</td>\n",
       "      <td>80.861182</td>\n",
       "      <td>81.036891</td>\n",
       "    </tr>\n",
       "    <tr>\n",
       "      <th>Interpolated synthetic Call</th>\n",
       "      <td>10.131841</td>\n",
       "      <td>10.085041</td>\n",
       "      <td>9.924698</td>\n",
       "      <td>9.924092</td>\n",
       "      <td>9.922731</td>\n",
       "    </tr>\n",
       "    <tr>\n",
       "      <th>Var interpolated</th>\n",
       "      <td>79.335084</td>\n",
       "      <td>74.579698</td>\n",
       "      <td>72.237210</td>\n",
       "      <td>72.245182</td>\n",
       "      <td>72.254175</td>\n",
       "    </tr>\n",
       "  </tbody>\n",
       "</table>\n",
       "</div>"
      ],
      "text/plain": [
       "                               1000        10000       100000      1000000   \\\n",
       "Crude Call                    10.570629   10.210775    9.937660    9.931915   \n",
       "Var Crude                    225.856190  219.779614  208.017530  207.995431   \n",
       "Synthetic Parity Call          9.693054    9.959306    9.911736    9.916269   \n",
       "Var Synthetic                 81.216591   80.668488   81.154639   80.861182   \n",
       "Interpolated synthetic Call   10.131841   10.085041    9.924698    9.924092   \n",
       "Var interpolated              79.335084   74.579698   72.237210   72.245182   \n",
       "\n",
       "                               10000000  \n",
       "Crude Call                     9.922200  \n",
       "Var Crude                    207.884732  \n",
       "Synthetic Parity Call          9.923262  \n",
       "Var Synthetic                 81.036891  \n",
       "Interpolated synthetic Call    9.922731  \n",
       "Var interpolated              72.254175  "
      ]
     },
     "execution_count": 36,
     "metadata": {},
     "output_type": "execute_result"
    }
   ],
   "source": [
    "Ms = 10**np.arange(3, 8)\n",
    "results = pd.DataFrame(index=['Crude Call', 'Var Crude', 'Synthetic Parity Call', 'Var Synthetic', 'Interpolated synthetic Call', 'Var interpolated'], columns=Ms)\n",
    "\n",
    "for M in Ms:\n",
    "    \n",
    "    #on simule X\n",
    "    gaussiennes = rng.standard_normal(M)\n",
    "    X=payoff_call(BS(x=S0,r=r,sigma=sigma,T=T,N=gaussiennes),r=r,T=T,K=K)\n",
    "    \n",
    "    #on simule X'\n",
    "    gaussiennes = rng.standard_normal(M)\n",
    "    Xprime=S0-K*np.exp(-r*T)+payoff_put(BS(x=S0,r=r,sigma=sigma,T=T,N=gaussiennes),r=r,T=T,K=K)\n",
    "    \n",
    "    #on calcule X+X' /2\n",
    "    gaussiennes = rng.standard_normal(M)\n",
    "    Xtilde=(X+Xprime)/2\n",
    "    \n",
    "    results[M] = np.array((monte_carlo(X)[:2],monte_carlo(Xprime)[:2], monte_carlo(Xtilde)[:2])).flatten()\n",
    "\n",
    "results"
   ]
  },
  {
   "cell_type": "code",
   "execution_count": 37,
   "id": "d2e3cdad",
   "metadata": {
    "scrolled": false
   },
   "outputs": [
    {
     "data": {
      "image/png": "[encoded data removed]",
      "text/plain": [
       "<Figure size 640x480 with 1 Axes>"
      ]
     },
     "metadata": {},
     "output_type": "display_data"
    }
   ],
   "source": [
    "strikes=np.arange(100,120)\n",
    "M=10**6\n",
    "res=np.empty((3,1))\n",
    "\n",
    "for K in strikes:\n",
    "    gaussiennes = rng.standard_normal(M)\n",
    "    X=payoff_call(BS(x=S0,r=r,sigma=sigma,T=T,N=gaussiennes),r=r,T=T,K=K)\n",
    "\n",
    "    #on simule X'\n",
    "    gaussiennes = rng.standard_normal(M)\n",
    "    Xprime=S0-K*np.exp(-r*T)+payoff_put(BS(x=S0,r=r,sigma=sigma,T=T,N=gaussiennes),r=r,T=T,K=K)\n",
    "\n",
    "    #on calcule X+X' /2\n",
    "    gaussiennes = rng.standard_normal(M)\n",
    "    Xtilde=(X+Xprime)/2\n",
    "\n",
    "    # prime=price_call_BS(spot=S0, t=T, r=r, sigma=sigma, strike=K)\n",
    "    res=np.c_[res,np.array([monte_carlo(X)[1], monte_carlo(Xprime)[1],monte_carlo(Xtilde)[1]])]\n",
    "    \n",
    "plt.plot(strikes, res[0,1:],label='Crude Call')\n",
    "plt.plot(strikes, res[1,1:],label='Synthetic Parity Call')\n",
    "plt.plot(strikes, res[2,1:],label='Interpolated synthetic Call')\n",
    "plt.xlabel('Strike')\n",
    "plt.ylabel('Variance')\n",
    "plt.legend()\n",
    "plt.show()"
   ]
  }
 ],
 "metadata": {
  "kernelspec": {
   "display_name": "Python 3 (ipykernel)",
   "language": "python",
   "name": "python3"
  },
  "language_info": {
   "codemirror_mode": {
    "name": "ipython",
    "version": 3
   },
   "file_extension": ".py",
   "mimetype": "text/x-python",
   "name": "python",
   "nbconvert_exporter": "python",
   "pygments_lexer": "ipython3",
   "version": "3.8.17"
  }
 },
 "nbformat": 4,
 "nbformat_minor": 5
}
