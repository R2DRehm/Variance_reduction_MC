{
 "cells": [
  {
   "cell_type": "code",
   "execution_count": 1,
   "id": "5ad07226",
   "metadata": {},
   "outputs": [],
   "source": [
    "import numpy as np\n",
    "import pandas as pd\n",
    "from numpy.random import default_rng, SeedSequence\n",
    "import scipy.stats as sps\n",
    "import matplotlib.pyplot as plt\n",
    "from scipy.stats import norm\n",
    "import warnings\n",
    "\n",
    "sq = SeedSequence()\n",
    "seed = sq.entropy\n",
    "rng = default_rng(sq)"
   ]
  },
  {
   "cell_type": "markdown",
   "id": "e183e619",
   "metadata": {},
   "source": [
    "### Tools"
   ]
  },
  {
   "cell_type": "code",
   "execution_count": 2,
   "id": "3cbd35df",
   "metadata": {},
   "outputs": [],
   "source": [
    "def brownian_1d(n_times: int, n_paths: int, \n",
    "                final_time: float=1.0, \n",
    "                increments: bool=False, \n",
    "                random_state: np.random.Generator=rng) -> np.array:\n",
    "    \"\"\"Simulate paths of standard Brownian motion\n",
    "    Args:\n",
    "        n_times: Number of timesteps\n",
    "        n_paths: Number of paths \n",
    "        final_time: Final time of simulation\n",
    "        increments: If `True` the increments of the paths are returned.\n",
    "        random_state: `np.random.Generator` used for simulation\n",
    "    Returns:\n",
    "        `np.array` of shape `(n_times+1, n_paths)` containing the paths if the argument `increments` is `False`\n",
    "        `np.array` of shape `(n_times, n_paths)` containing the increments if the argument `increments` is `True`\n",
    "    \"\"\"\n",
    "    dB = np.sqrt(final_time / n_times) * random_state.standard_normal((n_times, n_paths))\n",
    "    if increments:\n",
    "        return dB\n",
    "    else:\n",
    "        brownian = np.zeros((n_times+1, n_paths))\n",
    "        brownian[1:] = np.cumsum(dB, axis=0)\n",
    "        return brownian"
   ]
  },
  {
   "cell_type": "code",
   "execution_count": 3,
   "id": "95506b23",
   "metadata": {},
   "outputs": [],
   "source": [
    "def black_scholes_1d(n_times: int, n_paths: int, \n",
    "                     final_time: float=1.0, \n",
    "                     random_state: np.random.Generator=rng, *,\n",
    "                     init_value: float,\n",
    "                     r: float, sigma: float) -> np.array:\n",
    "    \"\"\"Simulate paths of Black-Scholes process\n",
    "    Args:\n",
    "        n_times: Number of timesteps\n",
    "        n_paths: Number of paths \n",
    "        final_time: Final time of simulation\n",
    "        init_value: `S0`\n",
    "        r: Interest rate\n",
    "        sigma: Volatility\n",
    "        random_state: `np.random.Generator` used for simulation\n",
    "    Returns:\n",
    "        `np.array` of shape `(n_times+1, n_paths)` containing the paths \n",
    "    \"\"\"\n",
    "    Bt = brownian_1d(n_times, n_paths)\n",
    "    times = np.arange(n_times+1)*(1/n_times)\n",
    "    t = times[:, np.newaxis]\n",
    "    St = init_value * np.exp((r - 0.5*sigma**2)*t + sigma*Bt)\n",
    "    return St"
   ]
  },
  {
   "cell_type": "code",
   "execution_count": 4,
   "id": "f6295d54",
   "metadata": {},
   "outputs": [],
   "source": [
    "# une fonction BS pour un payoff qui n'est pas path-dependent (offre plus de liberté pour le choix des gaussiennes dans la fonction)\n",
    "def BS(x,r,sigma,T,N):\n",
    "    \"\"\" args :\n",
    "            x=spot\n",
    "            r=interest rate\n",
    "            sigma=volatility\n",
    "            T=maturity\n",
    "            N=simulated standard normal random variable\n",
    "    \"\"\"\n",
    "    return  x*np.exp((r-(sigma**2)/2)*T+sigma*np.sqrt(T)*N)\n",
    "\n",
    "# une fonction de payoff du call et sa dérivée par rapport à S_T\n",
    "def payoff_call(S,r,T,K): return np.exp(-r*T)*np.maximum(S-K,0)\n",
    "def payoff_put(S,r,T,K): return np.exp(-r*T)*np.maximum(K-S,0)\n",
    "\n",
    "def call_derive(S,r,T,K): return np.exp(-r*T)*np.where(S>K,1,0)"
   ]
  },
  {
   "cell_type": "code",
   "execution_count": 5,
   "id": "b4d25e1f",
   "metadata": {},
   "outputs": [],
   "source": [
    "def monte_carlo(sample, proba = 0.95):\n",
    "    mean = np.mean(sample)\n",
    "    var = np.var(sample, ddof=1)\n",
    "    alpha = 1 - proba \n",
    "    quantile = norm.ppf(1 - alpha/2)  # fonction quantile \n",
    "    ci_size = quantile * np.sqrt(var / sample.size)\n",
    "    return (mean, var, mean - ci_size, mean + ci_size)"
   ]
  },
  {
   "cell_type": "code",
   "execution_count": 6,
   "id": "245bbfb2",
   "metadata": {},
   "outputs": [],
   "source": [
    "# Les formules fermées de Black-Scholes pour vérifier nos méthodes de MC\n",
    "\n",
    "def d1(spot, t, r, sigma, strike):\n",
    "    return (np.log(spot / strike) + t * (r + 0.5*sigma**2)) / (sigma * np.sqrt(t))\n",
    "\n",
    "def d2(spot, t, r, sigma, strike):\n",
    "    return d1(spot, t, r, sigma, strike) - sigma * np.sqrt(t)\n",
    "\n",
    "def price_call_BS(spot, t, r, sigma, strike):\n",
    "    d1_ = d1(spot, t, r, sigma, strike)\n",
    "    d2_ = d2(spot, t, r, sigma, strike)\n",
    "    return spot * norm.cdf(d1_) - strike * np.exp(-r * t) * norm.cdf(d2_)\n",
    "\n",
    "def delta_BS(spot, t, r, sigma, strike):\n",
    "    d1_ = d1(spot, t, r, sigma, strike)\n",
    "    return norm.cdf(d1_)"
   ]
  },
  {
   "cell_type": "markdown",
   "id": "6bf772c9",
   "metadata": {},
   "source": [
    "### Standard MC"
   ]
  },
  {
   "cell_type": "code",
   "execution_count": 7,
   "id": "242f1541",
   "metadata": {},
   "outputs": [],
   "source": [
    "# Fixons les paramètres\n",
    "\n",
    "S0 = 100\n",
    "T=1\n",
    "K=100\n",
    "r, sigma = 0.04, 0.20"
   ]
  },
  {
   "cell_type": "code",
   "execution_count": 8,
   "id": "1cf4381e",
   "metadata": {},
   "outputs": [
    {
     "data": {
      "text/html": [
       "<div>\n",
       "<style scoped>\n",
       "    .dataframe tbody tr th:only-of-type {\n",
       "        vertical-align: middle;\n",
       "    }\n",
       "\n",
       "    .dataframe tbody tr th {\n",
       "        vertical-align: top;\n",
       "    }\n",
       "\n",
       "    .dataframe thead th {\n",
       "        text-align: right;\n",
       "    }\n",
       "</style>\n",
       "<table border=\"1\" class=\"dataframe\">\n",
       "  <thead>\n",
       "    <tr style=\"text-align: right;\">\n",
       "      <th></th>\n",
       "      <th>1000</th>\n",
       "      <th>10000</th>\n",
       "      <th>100000</th>\n",
       "      <th>1000000</th>\n",
       "      <th>10000000</th>\n",
       "    </tr>\n",
       "  </thead>\n",
       "  <tbody>\n",
       "    <tr>\n",
       "      <th>Mean</th>\n",
       "      <td>9.712122</td>\n",
       "      <td>10.042327</td>\n",
       "      <td>9.886496</td>\n",
       "      <td>9.926891</td>\n",
       "      <td>9.926359</td>\n",
       "    </tr>\n",
       "    <tr>\n",
       "      <th>Var</th>\n",
       "      <td>189.080850</td>\n",
       "      <td>207.154298</td>\n",
       "      <td>206.833680</td>\n",
       "      <td>208.259954</td>\n",
       "      <td>207.870333</td>\n",
       "    </tr>\n",
       "    <tr>\n",
       "      <th>Lower</th>\n",
       "      <td>8.859863</td>\n",
       "      <td>9.760233</td>\n",
       "      <td>9.797359</td>\n",
       "      <td>9.898607</td>\n",
       "      <td>9.917422</td>\n",
       "    </tr>\n",
       "    <tr>\n",
       "      <th>Upper</th>\n",
       "      <td>10.564382</td>\n",
       "      <td>10.324422</td>\n",
       "      <td>9.975634</td>\n",
       "      <td>9.955176</td>\n",
       "      <td>9.935295</td>\n",
       "    </tr>\n",
       "  </tbody>\n",
       "</table>\n",
       "</div>"
      ],
      "text/plain": [
       "         1000        10000       100000      1000000     10000000\n",
       "Mean     9.712122   10.042327    9.886496    9.926891    9.926359\n",
       "Var    189.080850  207.154298  206.833680  208.259954  207.870333\n",
       "Lower    8.859863    9.760233    9.797359    9.898607    9.917422\n",
       "Upper   10.564382   10.324422    9.975634    9.955176    9.935295"
      ]
     },
     "execution_count": 8,
     "metadata": {},
     "output_type": "execute_result"
    }
   ],
   "source": [
    "Ms = 10**np.arange(3, 8)\n",
    "results = pd.DataFrame(index=['Mean', 'Var', 'Lower', 'Upper'], columns=Ms)\n",
    "for M in Ms:\n",
    "    gaussiennes = rng.standard_normal(M)\n",
    "    payoffs=payoff_call(BS(x=S0,r=r,sigma=sigma,T=T,N=gaussiennes),r=r,T=T,K=K)\n",
    "    results[M] = monte_carlo(payoffs)\n",
    "results"
   ]
  },
  {
   "cell_type": "code",
   "execution_count": 9,
   "id": "f003f22a",
   "metadata": {},
   "outputs": [
    {
     "data": {
      "text/plain": [
       "9.925053717274437"
      ]
     },
     "execution_count": 9,
     "metadata": {},
     "output_type": "execute_result"
    }
   ],
   "source": [
    "price_call_BS(S0, T, r, sigma, K)"
   ]
  },
  {
   "cell_type": "markdown",
   "id": "0ca92611",
   "metadata": {},
   "source": [
    "# Basket options"
   ]
  },
  {
   "cell_type": "code",
   "execution_count": 21,
   "id": "9a5152e5",
   "metadata": {},
   "outputs": [],
   "source": [
    "def sim_actifs(d:int, init_value: np.array, vol: np.array, Sigma, expiry, r, n_paths):\n",
    "    G=rng.standard_normal((d,n_paths))\n",
    "    L=np.linalg.cholesky(Sigma)\n",
    "    Gtild=L@G\n",
    "    ST = init_value[:,np.newaxis] * np.exp((r - 0.5*vol[:,np.newaxis]**2)*expiry +np.sqrt(expiry)*vol[:,np.newaxis]*Gtild)\n",
    "    return ST"
   ]
  },
  {
   "cell_type": "code",
   "execution_count": 22,
   "id": "fda15423",
   "metadata": {},
   "outputs": [
    {
     "data": {
      "text/plain": [
       "array([[ 87.6537058 , 126.92311041],\n",
       "       [102.71513622, 108.90173716],\n",
       "       [138.34319517, 100.49557652],\n",
       "       [ 94.63089577, 118.72116775],\n",
       "       [143.18372642, 148.32587702]])"
      ]
     },
     "execution_count": 22,
     "metadata": {},
     "output_type": "execute_result"
    }
   ],
   "source": [
    "# Exemple : 5 actifs de valeur initiale 100 et de volatilité croissante (en l'actif i), maturité 1 an, taux 2%\n",
    "n_paths=2\n",
    "d=5\n",
    "T=1\n",
    "r=0.02\n",
    "S0=np.full(d,100)\n",
    "K=100\n",
    "vol=np.linspace(0.2,0.3,5)\n",
    "rho=0.3\n",
    "Sigma = np.full((d,d), rho) + (1-rho)*np.eye(d)\n",
    "sim_actifs(d,S0,vol,Sigma,T,r,n_paths)"
   ]
  },
  {
   "cell_type": "code",
   "execution_count": 23,
   "id": "d346dda6",
   "metadata": {},
   "outputs": [
    {
     "data": {
      "text/html": [
       "<div>\n",
       "<style scoped>\n",
       "    .dataframe tbody tr th:only-of-type {\n",
       "        vertical-align: middle;\n",
       "    }\n",
       "\n",
       "    .dataframe tbody tr th {\n",
       "        vertical-align: top;\n",
       "    }\n",
       "\n",
       "    .dataframe thead th {\n",
       "        text-align: right;\n",
       "    }\n",
       "</style>\n",
       "<table border=\"1\" class=\"dataframe\">\n",
       "  <thead>\n",
       "    <tr style=\"text-align: right;\">\n",
       "      <th></th>\n",
       "      <th>1000</th>\n",
       "      <th>10000</th>\n",
       "      <th>100000</th>\n",
       "      <th>1000000</th>\n",
       "    </tr>\n",
       "  </thead>\n",
       "  <tbody>\n",
       "    <tr>\n",
       "      <th>Mean</th>\n",
       "      <td>7.560983</td>\n",
       "      <td>7.686125</td>\n",
       "      <td>7.861601</td>\n",
       "      <td>7.801095</td>\n",
       "    </tr>\n",
       "    <tr>\n",
       "      <th>Var</th>\n",
       "      <td>132.827241</td>\n",
       "      <td>134.707611</td>\n",
       "      <td>140.195042</td>\n",
       "      <td>138.595898</td>\n",
       "    </tr>\n",
       "    <tr>\n",
       "      <th>Lower</th>\n",
       "      <td>6.846665</td>\n",
       "      <td>7.458644</td>\n",
       "      <td>7.788215</td>\n",
       "      <td>7.778021</td>\n",
       "    </tr>\n",
       "    <tr>\n",
       "      <th>Upper</th>\n",
       "      <td>8.275301</td>\n",
       "      <td>7.913605</td>\n",
       "      <td>7.934987</td>\n",
       "      <td>7.824169</td>\n",
       "    </tr>\n",
       "  </tbody>\n",
       "</table>\n",
       "</div>"
      ],
      "text/plain": [
       "          1000        10000       100000      1000000\n",
       "Mean     7.560983    7.686125    7.861601    7.801095\n",
       "Var    132.827241  134.707611  140.195042  138.595898\n",
       "Lower    6.846665    7.458644    7.788215    7.778021\n",
       "Upper    8.275301    7.913605    7.934987    7.824169"
      ]
     },
     "execution_count": 23,
     "metadata": {},
     "output_type": "execute_result"
    }
   ],
   "source": [
    "# Pricing MC\n",
    "\n",
    "alpha=np.array([0.1,0.4,0.3,0.05,0.15])\n",
    "\n",
    "Ms = 10**np.arange(3, 7)\n",
    "results = pd.DataFrame(index=['Mean', 'Var', 'Lower', 'Upper'], columns=Ms)\n",
    "for M in Ms:\n",
    "    prix=sim_actifs(d,S0,vol,Sigma,T,r,M)\n",
    "    X=np.exp(-r*T)*np.maximum(np.average(prix, weights=alpha, axis=0)-K,0)\n",
    "    results[M]=monte_carlo(X)\n",
    "    \n",
    "results"
   ]
  },
  {
   "cell_type": "markdown",
   "id": "7fd0ad67",
   "metadata": {},
   "source": [
    "### Variance reduction"
   ]
  },
  {
   "cell_type": "markdown",
   "id": "b2eef02e",
   "metadata": {},
   "source": [
    "Compute discounted expectation of $k_T$."
   ]
  },
  {
   "cell_type": "code",
   "execution_count": 24,
   "id": "fe8b9431",
   "metadata": {},
   "outputs": [],
   "source": [
    "Sig = alpha.T @ Sigma @ Sigma.T @ alpha"
   ]
  },
  {
   "cell_type": "code",
   "execution_count": 25,
   "id": "a3160dba",
   "metadata": {},
   "outputs": [
    {
     "data": {
      "text/plain": [
       "41.64974249447475"
      ]
     },
     "execution_count": 25,
     "metadata": {},
     "output_type": "execute_result"
    }
   ],
   "source": [
    "var=np.sum([alpha[i]*Sigma[i,:]@Sigma[i,:].T for i in range(d)])\n",
    "produit=np.product([(S0[j]**alpha[j])*np.exp(-0.5*(var-Sig)*T) for j in range(d)])\n",
    "produit"
   ]
  },
  {
   "cell_type": "code",
   "execution_count": 26,
   "id": "d3792b41",
   "metadata": {},
   "outputs": [
    {
     "data": {
      "text/plain": [
       "6.525796311465067"
      ]
     },
     "execution_count": 26,
     "metadata": {},
     "output_type": "execute_result"
    }
   ],
   "source": [
    "premium=price_call_BS(spot=produit, t=T, r=r, sigma=np.sqrt(Sig) , strike=K)\n",
    "premium"
   ]
  },
  {
   "cell_type": "markdown",
   "id": "475656e2",
   "metadata": {},
   "source": [
    "We create the simulation function to perform MC."
   ]
  },
  {
   "cell_type": "code",
   "execution_count": 27,
   "id": "76c695b6",
   "metadata": {},
   "outputs": [],
   "source": [
    "def sim_payoff(d:int, init_value: np.array, vol: np.array, Sigma, expiry, r, n_paths, strike):\n",
    "    G=rng.standard_normal((d,n_paths))\n",
    "    L=np.linalg.cholesky(Sigma)\n",
    "    Gtild=L@G\n",
    "    ST = init_value[:,np.newaxis] * np.exp((r - 0.5*vol[:,np.newaxis]**2)*expiry +np.sqrt(expiry)*vol[:,np.newaxis]*Gtild)\n",
    "    return payoff_call(np.dot(alpha.T,ST), r , expiry, strike)-payoff_call(np.exp(np.dot(alpha.T,np.log(ST))), r , expiry, strike)"
   ]
  },
  {
   "cell_type": "code",
   "execution_count": 28,
   "id": "e9cd518c",
   "metadata": {},
   "outputs": [
    {
     "data": {
      "text/html": [
       "<div>\n",
       "<style scoped>\n",
       "    .dataframe tbody tr th:only-of-type {\n",
       "        vertical-align: middle;\n",
       "    }\n",
       "\n",
       "    .dataframe tbody tr th {\n",
       "        vertical-align: top;\n",
       "    }\n",
       "\n",
       "    .dataframe thead th {\n",
       "        text-align: right;\n",
       "    }\n",
       "</style>\n",
       "<table border=\"1\" class=\"dataframe\">\n",
       "  <thead>\n",
       "    <tr style=\"text-align: right;\">\n",
       "      <th></th>\n",
       "      <th>1000</th>\n",
       "      <th>10000</th>\n",
       "      <th>100000</th>\n",
       "      <th>1000000</th>\n",
       "      <th>10000000</th>\n",
       "    </tr>\n",
       "  </thead>\n",
       "  <tbody>\n",
       "    <tr>\n",
       "      <th>Mean</th>\n",
       "      <td>7.426958</td>\n",
       "      <td>7.419988</td>\n",
       "      <td>7.399729</td>\n",
       "      <td>7.406849</td>\n",
       "      <td>7.407057</td>\n",
       "    </tr>\n",
       "    <tr>\n",
       "      <th>Var</th>\n",
       "      <td>1.750897</td>\n",
       "      <td>1.879741</td>\n",
       "      <td>1.839140</td>\n",
       "      <td>1.854558</td>\n",
       "      <td>1.852891</td>\n",
       "    </tr>\n",
       "    <tr>\n",
       "      <th>Lower</th>\n",
       "      <td>7.344946</td>\n",
       "      <td>7.393116</td>\n",
       "      <td>7.391324</td>\n",
       "      <td>7.404180</td>\n",
       "      <td>7.406213</td>\n",
       "    </tr>\n",
       "    <tr>\n",
       "      <th>Upper</th>\n",
       "      <td>7.508970</td>\n",
       "      <td>7.446860</td>\n",
       "      <td>7.408134</td>\n",
       "      <td>7.409518</td>\n",
       "      <td>7.407900</td>\n",
       "    </tr>\n",
       "  </tbody>\n",
       "</table>\n",
       "</div>"
      ],
      "text/plain": [
       "       1000      10000     100000    1000000   10000000\n",
       "Mean   7.426958  7.419988  7.399729  7.406849  7.407057\n",
       "Var    1.750897  1.879741  1.839140  1.854558  1.852891\n",
       "Lower  7.344946  7.393116  7.391324  7.404180  7.406213\n",
       "Upper  7.508970  7.446860  7.408134  7.409518  7.407900"
      ]
     },
     "execution_count": 28,
     "metadata": {},
     "output_type": "execute_result"
    }
   ],
   "source": [
    "# Note : les browniens simulés dans k doit être les mêmes que ceux de h.\n",
    "\n",
    "Ms = 10**np.arange(3, 8)\n",
    "results = pd.DataFrame(index=['Mean', 'Var', 'Lower', 'Upper'], columns=Ms)\n",
    "for M in Ms:\n",
    "    payoffs=sim_payoff(d=d, init_value=S0, vol=vol, Sigma=Sigma, expiry=T, r=r, n_paths=M, strike=K)\n",
    "    results[M] = monte_carlo(payoffs)\n",
    "    results[M].iloc[0]+=premium\n",
    "    results[M].iloc[2:]+=premium\n",
    "results"
   ]
  }
 ],
 "metadata": {
  "kernelspec": {
   "display_name": "Python 3 (ipykernel)",
   "language": "python",
   "name": "python3"
  },
  "language_info": {
   "codemirror_mode": {
    "name": "ipython",
    "version": 3
   },
   "file_extension": ".py",
   "mimetype": "text/x-python",
   "name": "python",
   "nbconvert_exporter": "python",
   "pygments_lexer": "ipython3",
   "version": "3.8.17"
  }
 },
 "nbformat": 4,
 "nbformat_minor": 5
}
