{
 "cells": [
  {
   "cell_type": "code",
   "execution_count": 1,
   "id": "5ad07226",
   "metadata": {},
   "outputs": [],
   "source": [
    "import numpy as np\n",
    "import pandas as pd\n",
    "from numpy.random import default_rng, SeedSequence\n",
    "import scipy.stats as sps\n",
    "import matplotlib.pyplot as plt\n",
    "from scipy.stats import norm\n",
    "import warnings\n",
    "\n",
    "sq = SeedSequence()\n",
    "seed = sq.entropy\n",
    "rng = default_rng(sq)"
   ]
  },
  {
   "cell_type": "markdown",
   "id": "e183e619",
   "metadata": {},
   "source": [
    "### Outils : générateur de browniens, de trajectoires BS, formule de payoff, formules fermées de BS"
   ]
  },
  {
   "cell_type": "code",
   "execution_count": 2,
   "id": "3cbd35df",
   "metadata": {},
   "outputs": [],
   "source": [
    "def brownian_1d(n_times: int, n_paths: int, \n",
    "                final_time: float=1.0, \n",
    "                increments: bool=False, \n",
    "                random_state: np.random.Generator=rng) -> np.array:\n",
    "    \"\"\"Simulate paths of standard Brownian motion\n",
    "    Args:\n",
    "        n_times: Number of timesteps\n",
    "        n_paths: Number of paths \n",
    "        final_time: Final time of simulation\n",
    "        increments: If `True` the increments of the paths are returned.\n",
    "        random_state: `np.random.Generator` used for simulation\n",
    "    Returns:\n",
    "        `np.array` of shape `(n_times+1, n_paths)` containing the paths if the argument `increments` is `False`\n",
    "        `np.array` of shape `(n_times, n_paths)` containing the increments if the argument `increments` is `True`\n",
    "    \"\"\"\n",
    "    dB = np.sqrt(final_time / n_times) * random_state.standard_normal((n_times, n_paths))\n",
    "    if increments:\n",
    "        return dB\n",
    "    else:\n",
    "        brownian = np.zeros((n_times+1, n_paths))\n",
    "        brownian[1:] = np.cumsum(dB, axis=0)\n",
    "        return brownian"
   ]
  },
  {
   "cell_type": "code",
   "execution_count": 3,
   "id": "95506b23",
   "metadata": {},
   "outputs": [],
   "source": [
    "def black_scholes_1d(n_times: int, n_paths: int, \n",
    "                     final_time: float=1.0, \n",
    "                     random_state: np.random.Generator=rng, *,\n",
    "                     init_value: float,\n",
    "                     r: float, sigma: float) -> np.array:\n",
    "    \"\"\"Simulate paths of Black-Scholes process\n",
    "    Args:\n",
    "        n_times: Number of timesteps\n",
    "        n_paths: Number of paths \n",
    "        final_time: Final time of simulation\n",
    "        init_value: `S0`\n",
    "        r: Interest rate\n",
    "        sigma: Volatility\n",
    "        random_state: `np.random.Generator` used for simulation\n",
    "    Returns:\n",
    "        `np.array` of shape `(n_times+1, n_paths)` containing the paths \n",
    "    \"\"\"\n",
    "    Bt = brownian_1d(n_times, n_paths)\n",
    "    times = np.arange(n_times+1)*(1/n_times)\n",
    "    t = times[:, np.newaxis]\n",
    "    St = init_value * np.exp((r - 0.5*sigma**2)*t + sigma*Bt)\n",
    "    return St"
   ]
  },
  {
   "cell_type": "code",
   "execution_count": 4,
   "id": "f6295d54",
   "metadata": {},
   "outputs": [],
   "source": [
    "# une fonction BS pour un payoff qui n'est pas path-dependent (offre plus de liberté pour le choix des gaussiennes dans la fonction)\n",
    "def BS(x,r,sigma,T,N):\n",
    "    \"\"\" args :\n",
    "            x=spot\n",
    "            r=interest rate\n",
    "            sigma=volatility\n",
    "            T=maturity\n",
    "            N=simulated standard normal random variable\n",
    "    \"\"\"\n",
    "    return  x*np.exp((r-(sigma**2)/2)*T+sigma*np.sqrt(T)*N)\n",
    "\n",
    "# une fonction de payoff du call et sa dérivée par rapport à S_T\n",
    "def payoff_call(S,r,T,K): return np.exp(-r*T)*np.maximum(S-K,0)\n",
    "def payoff_put(S,r,T,K): return np.exp(-r*T)*np.maximum(K-S,0)\n",
    "\n",
    "def call_derive(S,r,T,K): return np.exp(-r*T)*np.where(S>K,1,0)"
   ]
  },
  {
   "cell_type": "code",
   "execution_count": 5,
   "id": "b4d25e1f",
   "metadata": {},
   "outputs": [],
   "source": [
    "def monte_carlo(sample, proba = 0.95):\n",
    "    mean = np.mean(sample)\n",
    "    var = np.var(sample, ddof=1)\n",
    "    alpha = 1 - proba \n",
    "    quantile = norm.ppf(1 - alpha/2)  # fonction quantile \n",
    "    ci_size = quantile * np.sqrt(var / sample.size)\n",
    "    return (mean, var, mean - ci_size, mean + ci_size)"
   ]
  },
  {
   "cell_type": "code",
   "execution_count": 6,
   "id": "245bbfb2",
   "metadata": {},
   "outputs": [],
   "source": [
    "# Les formules fermées de Black-Scholes pour vérifier nos méthodes de MC\n",
    "\n",
    "def d1(spot, t, r, sigma, strike):\n",
    "    return (np.log(spot / strike) + t * (r + 0.5*sigma**2)) / (sigma * np.sqrt(t))\n",
    "\n",
    "def d2(spot, t, r, sigma, strike):\n",
    "    return d1(spot, t, r, sigma, strike) - sigma * np.sqrt(t)\n",
    "\n",
    "def price_call_BS(spot, t, r, sigma, strike):\n",
    "    d1_ = d1(spot, t, r, sigma, strike)\n",
    "    d2_ = d2(spot, t, r, sigma, strike)\n",
    "    return spot * norm.cdf(d1_) - strike * np.exp(-r * t) * norm.cdf(d2_)\n",
    "\n",
    "def delta_BS(spot, t, r, sigma, strike):\n",
    "    d1_ = d1(spot, t, r, sigma, strike)\n",
    "    return norm.cdf(d1_)"
   ]
  },
  {
   "cell_type": "markdown",
   "id": "6bf772c9",
   "metadata": {},
   "source": [
    "### Pour tester nos fonctions : Pricing MC standard"
   ]
  },
  {
   "cell_type": "code",
   "execution_count": 7,
   "id": "242f1541",
   "metadata": {},
   "outputs": [],
   "source": [
    "# Fixons les paramètres\n",
    "\n",
    "S0 = 100\n",
    "T=1\n",
    "K=100\n",
    "r, sigma = 0.04, 0.20"
   ]
  },
  {
   "cell_type": "code",
   "execution_count": 8,
   "id": "1cf4381e",
   "metadata": {},
   "outputs": [
    {
     "data": {
      "text/html": [
       "<div>\n",
       "<style scoped>\n",
       "    .dataframe tbody tr th:only-of-type {\n",
       "        vertical-align: middle;\n",
       "    }\n",
       "\n",
       "    .dataframe tbody tr th {\n",
       "        vertical-align: top;\n",
       "    }\n",
       "\n",
       "    .dataframe thead th {\n",
       "        text-align: right;\n",
       "    }\n",
       "</style>\n",
       "<table border=\"1\" class=\"dataframe\">\n",
       "  <thead>\n",
       "    <tr style=\"text-align: right;\">\n",
       "      <th></th>\n",
       "      <th>1000</th>\n",
       "      <th>10000</th>\n",
       "      <th>100000</th>\n",
       "      <th>1000000</th>\n",
       "      <th>10000000</th>\n",
       "    </tr>\n",
       "  </thead>\n",
       "  <tbody>\n",
       "    <tr>\n",
       "      <th>Mean</th>\n",
       "      <td>9.712122</td>\n",
       "      <td>10.042327</td>\n",
       "      <td>9.886496</td>\n",
       "      <td>9.926891</td>\n",
       "      <td>9.926359</td>\n",
       "    </tr>\n",
       "    <tr>\n",
       "      <th>Var</th>\n",
       "      <td>189.080850</td>\n",
       "      <td>207.154298</td>\n",
       "      <td>206.833680</td>\n",
       "      <td>208.259954</td>\n",
       "      <td>207.870333</td>\n",
       "    </tr>\n",
       "    <tr>\n",
       "      <th>Lower</th>\n",
       "      <td>8.859863</td>\n",
       "      <td>9.760233</td>\n",
       "      <td>9.797359</td>\n",
       "      <td>9.898607</td>\n",
       "      <td>9.917422</td>\n",
       "    </tr>\n",
       "    <tr>\n",
       "      <th>Upper</th>\n",
       "      <td>10.564382</td>\n",
       "      <td>10.324422</td>\n",
       "      <td>9.975634</td>\n",
       "      <td>9.955176</td>\n",
       "      <td>9.935295</td>\n",
       "    </tr>\n",
       "  </tbody>\n",
       "</table>\n",
       "</div>"
      ],
      "text/plain": [
       "         1000        10000       100000      1000000     10000000\n",
       "Mean     9.712122   10.042327    9.886496    9.926891    9.926359\n",
       "Var    189.080850  207.154298  206.833680  208.259954  207.870333\n",
       "Lower    8.859863    9.760233    9.797359    9.898607    9.917422\n",
       "Upper   10.564382   10.324422    9.975634    9.955176    9.935295"
      ]
     },
     "execution_count": 8,
     "metadata": {},
     "output_type": "execute_result"
    }
   ],
   "source": [
    "Ms = 10**np.arange(3, 8)\n",
    "results = pd.DataFrame(index=['Mean', 'Var', 'Lower', 'Upper'], columns=Ms)\n",
    "for M in Ms:\n",
    "    gaussiennes = rng.standard_normal(M)\n",
    "    payoffs=payoff_call(BS(x=S0,r=r,sigma=sigma,T=T,N=gaussiennes),r=r,T=T,K=K)\n",
    "    results[M] = monte_carlo(payoffs)\n",
    "results"
   ]
  },
  {
   "cell_type": "code",
   "execution_count": 9,
   "id": "f003f22a",
   "metadata": {},
   "outputs": [
    {
     "data": {
      "text/plain": [
       "9.925053717274437"
      ]
     },
     "execution_count": 9,
     "metadata": {},
     "output_type": "execute_result"
    }
   ],
   "source": [
    "price_call_BS(S0, T, r, sigma, K)"
   ]
  },
  {
   "cell_type": "markdown",
   "id": "61fa4cc7",
   "metadata": {},
   "source": [
    "# I. Sensibilités"
   ]
  },
  {
   "cell_type": "markdown",
   "id": "04042ec5",
   "metadata": {},
   "source": [
    "## A. Payoff Call vanille"
   ]
  },
  {
   "cell_type": "markdown",
   "id": "5d838cf7",
   "metadata": {},
   "source": [
    "On cherche à calculer le prix du delta d'un Call vanille à l'aide d'une méthode de monte carlo. Ici, le payoff n'est pas path-dependent"
   ]
  },
  {
   "cell_type": "markdown",
   "id": "475dc6fe",
   "metadata": {},
   "source": [
    "$$\n",
    "\\Phi'(x)=\\mathbb E(\\phi'(X_T^x)\\frac{X_T^x}{x})=\\mathbb E(\\phi(X_T^x)\\frac{W_T}{x \\sigma T})\n",
    "$$"
   ]
  },
  {
   "cell_type": "markdown",
   "id": "5a92bbff",
   "metadata": {},
   "source": [
    "### 1. Méthode 1"
   ]
  },
  {
   "cell_type": "markdown",
   "id": "0d348ca2",
   "metadata": {},
   "source": [
    "Nous allons comparer :\n",
    "$$\n",
    "\\mathbb E(\\phi'(X_T^x)\\frac{X_T^x}{x}) \\qquad \\text{(sans réduction de variance)}\n",
    "$$\n",
    "et :\n",
    "$$\n",
    "\\Phi'(x)=\\mathbb E([\\phi'(X_T^x)-\\phi'(xe^{rT})]\\frac{X_T^x}{x})+\\phi'(xe^{rT})e^{rT} \\qquad \\text{(variable de contrôle méthode 1)}\n",
    "$$"
   ]
  },
  {
   "cell_type": "code",
   "execution_count": 10,
   "id": "42767d64",
   "metadata": {},
   "outputs": [
    {
     "data": {
      "text/html": [
       "<div>\n",
       "<style scoped>\n",
       "    .dataframe tbody tr th:only-of-type {\n",
       "        vertical-align: middle;\n",
       "    }\n",
       "\n",
       "    .dataframe tbody tr th {\n",
       "        vertical-align: top;\n",
       "    }\n",
       "\n",
       "    .dataframe thead th {\n",
       "        text-align: right;\n",
       "    }\n",
       "</style>\n",
       "<table border=\"1\" class=\"dataframe\">\n",
       "  <thead>\n",
       "    <tr style=\"text-align: right;\">\n",
       "      <th></th>\n",
       "      <th>1000</th>\n",
       "      <th>10000</th>\n",
       "      <th>100000</th>\n",
       "      <th>1000000</th>\n",
       "      <th>10000000</th>\n",
       "      <th>100000000</th>\n",
       "    </tr>\n",
       "  </thead>\n",
       "  <tbody>\n",
       "    <tr>\n",
       "      <th>Mean</th>\n",
       "      <td>0.612950</td>\n",
       "      <td>0.624501</td>\n",
       "      <td>0.618376</td>\n",
       "      <td>0.618258</td>\n",
       "      <td>0.617865</td>\n",
       "      <td>0.617916</td>\n",
       "    </tr>\n",
       "    <tr>\n",
       "      <th>Var</th>\n",
       "      <td>0.335005</td>\n",
       "      <td>0.339855</td>\n",
       "      <td>0.338327</td>\n",
       "      <td>0.337866</td>\n",
       "      <td>0.337850</td>\n",
       "      <td>0.337855</td>\n",
       "    </tr>\n",
       "    <tr>\n",
       "      <th>Lower</th>\n",
       "      <td>0.577077</td>\n",
       "      <td>0.613075</td>\n",
       "      <td>0.614771</td>\n",
       "      <td>0.617119</td>\n",
       "      <td>0.617504</td>\n",
       "      <td>0.617802</td>\n",
       "    </tr>\n",
       "    <tr>\n",
       "      <th>Upper</th>\n",
       "      <td>0.648824</td>\n",
       "      <td>0.635927</td>\n",
       "      <td>0.621981</td>\n",
       "      <td>0.619397</td>\n",
       "      <td>0.618225</td>\n",
       "      <td>0.618030</td>\n",
       "    </tr>\n",
       "  </tbody>\n",
       "</table>\n",
       "</div>"
      ],
      "text/plain": [
       "       1000       10000      100000     1000000    10000000   100000000\n",
       "Mean    0.612950   0.624501   0.618376   0.618258   0.617865   0.617916\n",
       "Var     0.335005   0.339855   0.338327   0.337866   0.337850   0.337855\n",
       "Lower   0.577077   0.613075   0.614771   0.617119   0.617504   0.617802\n",
       "Upper   0.648824   0.635927   0.621981   0.619397   0.618225   0.618030"
      ]
     },
     "execution_count": 10,
     "metadata": {},
     "output_type": "execute_result"
    }
   ],
   "source": [
    "# première méthode, sans réduction de variance\n",
    "\n",
    "Ms = 10**np.arange(3, 9)\n",
    "results1a = pd.DataFrame(index=['Mean', 'Var', 'Lower', 'Upper'], columns=Ms)\n",
    "for M in Ms:\n",
    "    gaussiennes = rng.standard_normal(M)\n",
    "    payoffs=call_derive(BS(x=S0,r=r,sigma=sigma,T=T,N=gaussiennes),r=r,T=T,K=K)*BS(x=S0,r=r,sigma=sigma,T=T,N=gaussiennes)/S0\n",
    "    results1a[M] = monte_carlo(payoffs)\n",
    "results1a"
   ]
  },
  {
   "cell_type": "code",
   "execution_count": 11,
   "id": "c2b77eac",
   "metadata": {},
   "outputs": [
    {
     "data": {
      "text/plain": [
       "0.6179114221889526"
      ]
     },
     "execution_count": 11,
     "metadata": {},
     "output_type": "execute_result"
    }
   ],
   "source": [
    "# formule fermée\n",
    "delta_BS(S0, T, r, sigma, K)"
   ]
  },
  {
   "cell_type": "markdown",
   "id": "8a29a2cf",
   "metadata": {},
   "source": [
    "La simulation semble converger vers le bon prix."
   ]
  },
  {
   "cell_type": "code",
   "execution_count": 12,
   "id": "bba64030",
   "metadata": {},
   "outputs": [
    {
     "data": {
      "text/html": [
       "<div>\n",
       "<style scoped>\n",
       "    .dataframe tbody tr th:only-of-type {\n",
       "        vertical-align: middle;\n",
       "    }\n",
       "\n",
       "    .dataframe tbody tr th {\n",
       "        vertical-align: top;\n",
       "    }\n",
       "\n",
       "    .dataframe thead th {\n",
       "        text-align: right;\n",
       "    }\n",
       "</style>\n",
       "<table border=\"1\" class=\"dataframe\">\n",
       "  <thead>\n",
       "    <tr style=\"text-align: right;\">\n",
       "      <th></th>\n",
       "      <th>1000</th>\n",
       "      <th>10000</th>\n",
       "      <th>100000</th>\n",
       "      <th>1000000</th>\n",
       "      <th>10000000</th>\n",
       "      <th>100000000</th>\n",
       "    </tr>\n",
       "  </thead>\n",
       "  <tbody>\n",
       "    <tr>\n",
       "      <th>Mean</th>\n",
       "      <td>0.640032</td>\n",
       "      <td>0.623406</td>\n",
       "      <td>0.619400</td>\n",
       "      <td>0.618143</td>\n",
       "      <td>0.618080</td>\n",
       "      <td>0.617891</td>\n",
       "    </tr>\n",
       "    <tr>\n",
       "      <th>Var</th>\n",
       "      <td>0.173143</td>\n",
       "      <td>0.173994</td>\n",
       "      <td>0.175063</td>\n",
       "      <td>0.175068</td>\n",
       "      <td>0.175098</td>\n",
       "      <td>0.175142</td>\n",
       "    </tr>\n",
       "    <tr>\n",
       "      <th>Lower</th>\n",
       "      <td>0.614242</td>\n",
       "      <td>0.615231</td>\n",
       "      <td>0.616807</td>\n",
       "      <td>0.617323</td>\n",
       "      <td>0.617821</td>\n",
       "      <td>0.617809</td>\n",
       "    </tr>\n",
       "    <tr>\n",
       "      <th>Upper</th>\n",
       "      <td>0.665822</td>\n",
       "      <td>0.631582</td>\n",
       "      <td>0.621993</td>\n",
       "      <td>0.618963</td>\n",
       "      <td>0.618339</td>\n",
       "      <td>0.617973</td>\n",
       "    </tr>\n",
       "  </tbody>\n",
       "</table>\n",
       "</div>"
      ],
      "text/plain": [
       "       1000       10000      100000     1000000    10000000   100000000\n",
       "Mean    0.640032   0.623406   0.619400   0.618143   0.618080   0.617891\n",
       "Var     0.173143   0.173994   0.175063   0.175068   0.175098   0.175142\n",
       "Lower   0.614242   0.615231   0.616807   0.617323   0.617821   0.617809\n",
       "Upper   0.665822   0.631582   0.621993   0.618963   0.618339   0.617973"
      ]
     },
     "execution_count": 12,
     "metadata": {},
     "output_type": "execute_result"
    }
   ],
   "source": [
    "warnings.filterwarnings(\"ignore\")\n",
    "\n",
    "# méthode 1, avec réduction de variance\n",
    "\n",
    "Ms = 10**np.arange(3, 9)\n",
    "results1b = pd.DataFrame(index=['Mean', 'Var', 'Lower', 'Upper'], columns=Ms)\n",
    "for M in Ms:\n",
    "    gaussiennes = rng.standard_normal(M)\n",
    "    payoffs=(call_derive(BS(x=S0,r=r,sigma=sigma,T=T,N=gaussiennes),r=r,T=T,K=K)-call_derive(S0*np.exp(r*T),r=r,T=T,K=K))*BS(x=S0,r=r,sigma=sigma,T=T,N=gaussiennes)/S0\n",
    "    results1b[M] = monte_carlo(payoffs)\n",
    "    results1b[M].iloc[0]+=call_derive(S0*np.exp(r*T),r=r,T=T,K=K)*np.exp(r*T)\n",
    "    results1b[M].iloc[2:]+=call_derive(S0*np.exp(r*T),r=r,T=T,K=K)*np.exp(r*T)\n",
    "results1b"
   ]
  },
  {
   "cell_type": "markdown",
   "id": "7a492015",
   "metadata": {},
   "source": [
    "On constate une réduction de variance significante par rapport à notre première simulation."
   ]
  },
  {
   "cell_type": "markdown",
   "id": "00c05bbc",
   "metadata": {},
   "source": [
    "### 2. Méthode 2"
   ]
  },
  {
   "cell_type": "markdown",
   "id": "c4f098aa",
   "metadata": {},
   "source": [
    "Nous allons comparer :\n",
    "$$\n",
    "\\mathbb E(\\phi(X_T^x)\\frac{W_T}{x \\sigma T}) \\qquad \\text{(sans réduction de variance, méthode 2)}\n",
    "$$\n",
    "et :\n",
    "$$\n",
    "\\Phi'(x)=\\mathbb E([\\phi(X_T^x)-\\phi(xe^{rT})]\\frac{W_T}{x \\sigma T}) \\qquad \\text{(variable de contrôle méthode 2)}\n",
    "$$"
   ]
  },
  {
   "cell_type": "code",
   "execution_count": 13,
   "id": "424298d8",
   "metadata": {},
   "outputs": [
    {
     "data": {
      "text/html": [
       "<div>\n",
       "<style scoped>\n",
       "    .dataframe tbody tr th:only-of-type {\n",
       "        vertical-align: middle;\n",
       "    }\n",
       "\n",
       "    .dataframe tbody tr th {\n",
       "        vertical-align: top;\n",
       "    }\n",
       "\n",
       "    .dataframe thead th {\n",
       "        text-align: right;\n",
       "    }\n",
       "</style>\n",
       "<table border=\"1\" class=\"dataframe\">\n",
       "  <thead>\n",
       "    <tr style=\"text-align: right;\">\n",
       "      <th></th>\n",
       "      <th>1000</th>\n",
       "      <th>10000</th>\n",
       "      <th>100000</th>\n",
       "      <th>1000000</th>\n",
       "      <th>10000000</th>\n",
       "      <th>100000000</th>\n",
       "    </tr>\n",
       "  </thead>\n",
       "  <tbody>\n",
       "    <tr>\n",
       "      <th>Mean</th>\n",
       "      <td>0.607158</td>\n",
       "      <td>0.606195</td>\n",
       "      <td>0.615235</td>\n",
       "      <td>0.618315</td>\n",
       "      <td>0.618703</td>\n",
       "      <td>0.617868</td>\n",
       "    </tr>\n",
       "    <tr>\n",
       "      <th>Var</th>\n",
       "      <td>1.961407</td>\n",
       "      <td>2.080481</td>\n",
       "      <td>2.086038</td>\n",
       "      <td>2.071439</td>\n",
       "      <td>2.077536</td>\n",
       "      <td>2.074589</td>\n",
       "    </tr>\n",
       "    <tr>\n",
       "      <th>Lower</th>\n",
       "      <td>0.520356</td>\n",
       "      <td>0.577925</td>\n",
       "      <td>0.606284</td>\n",
       "      <td>0.615494</td>\n",
       "      <td>0.617809</td>\n",
       "      <td>0.617585</td>\n",
       "    </tr>\n",
       "    <tr>\n",
       "      <th>Upper</th>\n",
       "      <td>0.693960</td>\n",
       "      <td>0.634465</td>\n",
       "      <td>0.624187</td>\n",
       "      <td>0.621135</td>\n",
       "      <td>0.619596</td>\n",
       "      <td>0.618150</td>\n",
       "    </tr>\n",
       "  </tbody>\n",
       "</table>\n",
       "</div>"
      ],
      "text/plain": [
       "       1000       10000      100000     1000000    10000000   100000000\n",
       "Mean    0.607158   0.606195   0.615235   0.618315   0.618703   0.617868\n",
       "Var     1.961407   2.080481   2.086038   2.071439   2.077536   2.074589\n",
       "Lower   0.520356   0.577925   0.606284   0.615494   0.617809   0.617585\n",
       "Upper   0.693960   0.634465   0.624187   0.621135   0.619596   0.618150"
      ]
     },
     "execution_count": 13,
     "metadata": {},
     "output_type": "execute_result"
    }
   ],
   "source": [
    "Ms = 10**np.arange(3, 9)\n",
    "results2a = pd.DataFrame(index=['Mean', 'Var', 'Lower', 'Upper'], columns=Ms)\n",
    "for M in Ms:\n",
    "    gaussiennes = rng.standard_normal(M)\n",
    "    payoffs=payoff_call(BS(x=S0,r=r,sigma=sigma,T=T,N=gaussiennes),r=r,T=T,K=K)*np.sqrt(T)*gaussiennes/(S0*sigma*T)\n",
    "    results2a[M] = monte_carlo(payoffs)\n",
    "results2a"
   ]
  },
  {
   "cell_type": "code",
   "execution_count": 14,
   "id": "d1ad8f26",
   "metadata": {
    "scrolled": true
   },
   "outputs": [
    {
     "data": {
      "text/html": [
       "<div>\n",
       "<style scoped>\n",
       "    .dataframe tbody tr th:only-of-type {\n",
       "        vertical-align: middle;\n",
       "    }\n",
       "\n",
       "    .dataframe tbody tr th {\n",
       "        vertical-align: top;\n",
       "    }\n",
       "\n",
       "    .dataframe thead th {\n",
       "        text-align: right;\n",
       "    }\n",
       "</style>\n",
       "<table border=\"1\" class=\"dataframe\">\n",
       "  <thead>\n",
       "    <tr style=\"text-align: right;\">\n",
       "      <th></th>\n",
       "      <th>1000</th>\n",
       "      <th>10000</th>\n",
       "      <th>100000</th>\n",
       "      <th>1000000</th>\n",
       "      <th>10000000</th>\n",
       "      <th>100000000</th>\n",
       "    </tr>\n",
       "  </thead>\n",
       "  <tbody>\n",
       "    <tr>\n",
       "      <th>Mean</th>\n",
       "      <td>0.641975</td>\n",
       "      <td>0.607928</td>\n",
       "      <td>0.615667</td>\n",
       "      <td>0.617265</td>\n",
       "      <td>0.617997</td>\n",
       "      <td>0.617781</td>\n",
       "    </tr>\n",
       "    <tr>\n",
       "      <th>Var</th>\n",
       "      <td>1.754384</td>\n",
       "      <td>1.742841</td>\n",
       "      <td>1.668815</td>\n",
       "      <td>1.712629</td>\n",
       "      <td>1.720296</td>\n",
       "      <td>1.720973</td>\n",
       "    </tr>\n",
       "    <tr>\n",
       "      <th>Lower</th>\n",
       "      <td>0.559882</td>\n",
       "      <td>0.582053</td>\n",
       "      <td>0.607661</td>\n",
       "      <td>0.614700</td>\n",
       "      <td>0.617184</td>\n",
       "      <td>0.617524</td>\n",
       "    </tr>\n",
       "    <tr>\n",
       "      <th>Upper</th>\n",
       "      <td>0.724069</td>\n",
       "      <td>0.633803</td>\n",
       "      <td>0.623674</td>\n",
       "      <td>0.619830</td>\n",
       "      <td>0.618810</td>\n",
       "      <td>0.618038</td>\n",
       "    </tr>\n",
       "  </tbody>\n",
       "</table>\n",
       "</div>"
      ],
      "text/plain": [
       "       1000       10000      100000     1000000    10000000   100000000\n",
       "Mean    0.641975   0.607928   0.615667   0.617265   0.617997   0.617781\n",
       "Var     1.754384   1.742841   1.668815   1.712629   1.720296   1.720973\n",
       "Lower   0.559882   0.582053   0.607661   0.614700   0.617184   0.617524\n",
       "Upper   0.724069   0.633803   0.623674   0.619830   0.618810   0.618038"
      ]
     },
     "execution_count": 14,
     "metadata": {},
     "output_type": "execute_result"
    }
   ],
   "source": [
    "Ms = 10**np.arange(3, 9)\n",
    "results2b = pd.DataFrame(index=['Mean', 'Var', 'Lower', 'Upper'], columns=Ms)\n",
    "for M in Ms:\n",
    "    gaussiennes = rng.standard_normal(M)\n",
    "    payoffs=(payoff_call(BS(x=S0,r=r,sigma=sigma,T=T,N=gaussiennes),r=r,T=T,K=K)-payoff_call(S0*np.exp(r*T),r,T,K))*gaussiennes/(S0*sigma*np.sqrt(T))\n",
    "    results2b[M] = monte_carlo(payoffs)\n",
    "results2b"
   ]
  },
  {
   "cell_type": "code",
   "execution_count": 15,
   "id": "e8890666",
   "metadata": {
    "scrolled": false
   },
   "outputs": [
    {
     "data": {
      "image/png": "[encoded data removed]",
      "text/plain": [
       "<Figure size 1000x400 with 2 Axes>"
      ]
     },
     "metadata": {},
     "output_type": "display_data"
    }
   ],
   "source": [
    "logM = np.log10(Ms)\n",
    "\n",
    "fig, (ax1, ax2) = plt.subplots(nrows=1, ncols=2, figsize=(10, 4), sharey=True)\n",
    "\n",
    "ax1.plot(logM, results1a.iloc[0], 'bo', label=r'''$E(\\phi'(X_T^x) \\frac{X_T^x}{x})$''')\n",
    "ax1.fill_between(logM, results1a.iloc[2], results1a.iloc[3], color='b', alpha=0.1)\n",
    "\n",
    "ax1.plot(logM, results1b.iloc[0], 'ro', label=r'''$E([\\phi'(X_T^x)-\\phi'(xe^{rT})]\\frac{X_T^x}{x})+\\phi'(xe^{rT})e^{rT}$''')\n",
    "ax1.fill_between(logM, results1b.iloc[2], results1b.iloc[3], color='r', alpha=0.1)\n",
    "\n",
    "ax1.set_xlabel('M=10**m, m=3,...')\n",
    "ax1.set_title('Méthode 1')\n",
    "ax1.legend()\n",
    "\n",
    "ax2.plot(logM, results2a.iloc[0], 'go', label=r'$E(\\phi(X_T^x) \\frac{W_T}{x \\sigma T})$')\n",
    "ax2.fill_between(logM, results2a.iloc[2], results2a.iloc[3], color='b', alpha=0.1)\n",
    "\n",
    "ax2.plot(logM, results2b.iloc[0], 'yo', label=r'$E([\\phi(X_T^x)-\\phi(xe^{rT})]\\frac{W_T}{x \\sigma T})$')\n",
    "ax2.fill_between(logM, results2b.iloc[2], results2b.iloc[3], color='r', alpha=0.1)\n",
    "\n",
    "ax2.set_xlabel('M=10**m, m=3,...')\n",
    "ax2.set_title('Méthode 2')\n",
    "ax2.legend()\n",
    "\n",
    "plt.show()"
   ]
  },
  {
   "cell_type": "markdown",
   "id": "b84e7e88",
   "metadata": {},
   "source": [
    "### 3. Comparaison des variances en fonction de la maturité"
   ]
  },
  {
   "cell_type": "code",
   "execution_count": 16,
   "id": "a75206ee",
   "metadata": {
    "scrolled": false
   },
   "outputs": [
    {
     "data": {
      "image/png": "[encoded data removed]",
      "text/plain": [
       "<Figure size 500x400 with 1 Axes>"
      ]
     },
     "metadata": {},
     "output_type": "display_data"
    }
   ],
   "source": [
    "maturites=np.arange(0.1,10)\n",
    "results = pd.DataFrame(index=['1e methode','2e methode'], columns=maturites)\n",
    "M=10**5\n",
    "for T in maturites:\n",
    "    gaussiennes = rng.standard_normal(M)\n",
    "    payoffs=(call_derive(BS(x=S0,r=r,sigma=sigma,T=T,N=gaussiennes),r=r,T=T,K=K)-call_derive(S0*np.exp(r*T),r=r,T=T,K=K))*BS(x=S0,r=r,sigma=sigma,T=T,N=gaussiennes)/S0\n",
    "    results[T].iloc[0] = monte_carlo(payoffs)[1]\n",
    "    gaussiennes = rng.standard_normal(M)\n",
    "    payoffs=(payoff_call(BS(x=S0,r=r,sigma=sigma,T=T,N=gaussiennes),r=r,T=T,K=K)-payoff_call(S0*np.exp(r*T),r,T,K))*gaussiennes/(S0*sigma*np.sqrt(T))\n",
    "    results[T].iloc[1] = monte_carlo(payoffs)[1]\n",
    "\n",
    "fig, ax = plt.subplots(figsize=(5, 4))\n",
    "\n",
    "ax.plot(maturites, results.iloc[0],label='Variance réduite, méthode 1')\n",
    "ax.plot(maturites, results.iloc[1], label='Variance réduite, méthode 2')\n",
    "ax.legend()\n",
    "ax.set_xlabel('Maturité')\n",
    "ax.set_ylabel('Variance')\n",
    "plt.show()"
   ]
  },
  {
   "cell_type": "markdown",
   "id": "86fe7faf",
   "metadata": {},
   "source": [
    "Ici, la méthode 1 a une variance systématiquement plus faible que la méthode 2, quelle que soit la maturité choisie. De plus, la variance de la seconde méthode augmente lorsque la maturité augmente. C'est dû à la forme du payoff du call standard qui tend vers l'infini quand la valeur du sous-jacent diverge. Testons la même méthode avec un payoff borné : une option digitale par exemple."
   ]
  },
  {
   "cell_type": "markdown",
   "id": "09be618c",
   "metadata": {},
   "source": [
    "## B. Payoff Binaire (Call spread)"
   ]
  },
  {
   "cell_type": "markdown",
   "id": "c6837392",
   "metadata": {},
   "source": [
    "Il s'agit de faire les mêmes simulations que précédemment mais pour un call digital. Or le payoff étant discontinu, on réplique statiquement le payoff par un call spread :\n",
    "- On achète (1/$\\epsilon$) Calls de Strike K-$\\epsilon$.\n",
    "- On vend (1/$\\epsilon$) Calls de Strike K."
   ]
  },
  {
   "cell_type": "code",
   "execution_count": 17,
   "id": "a2285e74",
   "metadata": {},
   "outputs": [
    {
     "data": {
      "text/plain": [
       "[<matplotlib.lines.Line2D at 0x29aabf8fd30>]"
      ]
     },
     "execution_count": 17,
     "metadata": {},
     "output_type": "execute_result"
    },
    {
     "data": {
      "image/png": "[encoded data removed]",
      "text/plain": [
       "<Figure size 200x200 with 1 Axes>"
      ]
     },
     "metadata": {},
     "output_type": "display_data"
    }
   ],
   "source": [
    "def payoff_spread(S,r,T,K,sprd): return (1/sprd)*payoff_call(S,r,T,K-sprd)-(1/sprd)*payoff_call(S,r,T,K)\n",
    "def spread_derive(S,r,T,K,sprd): return np.exp(-r*T)*np.where(S>K-sprd,1/sprd,0)*np.where(S<K,1/sprd,0)\n",
    "\n",
    "plt.figure(figsize=(2,2))\n",
    "S=np.arange(50,150)\n",
    "plt.plot(S,payoff_spread(S,r,T,K,0.1))\n",
    "plt.plot(S,payoff_spread(S,r,T,K,10))"
   ]
  },
  {
   "cell_type": "code",
   "execution_count": 18,
   "id": "e84b1ae3",
   "metadata": {},
   "outputs": [],
   "source": [
    "def var_mat(spread):\n",
    "    maturites=np.arange(0.1,10,0.2)\n",
    "    results = pd.DataFrame(index=['1e methode','2e methode'], columns=maturites)\n",
    "    M=10**5\n",
    "    for T in maturites:\n",
    "        gaussiennes = rng.standard_normal(M)\n",
    "        payoffs=(spread_derive(BS(x=S0,r=r,sigma=sigma,T=T,N=gaussiennes),r=r,T=T,K=K,sprd=spread)-spread_derive(S0*np.exp(r*T),r=r,T=T,K=K,sprd=spread))*BS(x=S0,r=r,sigma=sigma,T=T,N=gaussiennes)/S0\n",
    "        results[T].iloc[0] = monte_carlo(payoffs)[1]\n",
    "        gaussiennes = rng.standard_normal(M)\n",
    "        payoffs=(payoff_spread(BS(x=S0,r=r,sigma=sigma,T=T,N=gaussiennes),r=r,T=T,K=K,sprd=spread)-payoff_spread(S0*np.exp(r*T),r,T,K,sprd=spread))*gaussiennes/(S0*sigma*np.sqrt(T))\n",
    "        results[T].iloc[1] = monte_carlo(payoffs)[1]\n",
    "\n",
    "    fig, ax = plt.subplots(figsize=(5, 4))\n",
    "\n",
    "    ax.plot(maturites, results.iloc[0],label='Variance réduite, méthode 1')\n",
    "    ax.plot(maturites, results.iloc[1], label='Variance réduite, méthode 2')\n",
    "    ax.legend()\n",
    "\n",
    "    ax.set_xlabel('Maturité')\n",
    "    ax.set_ylabel('Variance')\n",
    "    plt.show()"
   ]
  },
  {
   "cell_type": "code",
   "execution_count": 19,
   "id": "9cdb872f",
   "metadata": {},
   "outputs": [
    {
     "data": {
      "image/png": "[encoded data removed]",
      "text/plain": [
       "<Figure size 500x400 with 1 Axes>"
      ]
     },
     "metadata": {},
     "output_type": "display_data"
    }
   ],
   "source": [
    "var_mat(spread=1)"
   ]
  },
  {
   "cell_type": "markdown",
   "id": "3c7047ef",
   "metadata": {},
   "source": [
    "Cette fois-ci, la variance de la second méthode de réduction est bien décroissante avec la maturité. C'est ce que l'on espérait en faisant apparaîte $T$ au dénominateur. De plus, la seconde méthode de réduction est meilleure pour ce payoff digital, mais attention, cela dépend tout de même de la valeur du spread choisi."
   ]
  },
  {
   "cell_type": "code",
   "execution_count": 20,
   "id": "bb2f5eb3",
   "metadata": {},
   "outputs": [
    {
     "data": {
      "image/png": "[encoded data removed]",
      "text/plain": [
       "<Figure size 500x400 with 1 Axes>"
      ]
     },
     "metadata": {},
     "output_type": "display_data"
    }
   ],
   "source": [
    "var_mat(spread=2.5)"
   ]
  }
 ],
 "metadata": {
  "kernelspec": {
   "display_name": "Python 3 (ipykernel)",
   "language": "python",
   "name": "python3"
  },
  "language_info": {
   "codemirror_mode": {
    "name": "ipython",
    "version": 3
   },
   "file_extension": ".py",
   "mimetype": "text/x-python",
   "name": "python",
   "nbconvert_exporter": "python",
   "pygments_lexer": "ipython3",
   "version": "3.8.17"
  }
 },
 "nbformat": 4,
 "nbformat_minor": 5
}
