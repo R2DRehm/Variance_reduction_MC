{
 "cells": [
  {
   "cell_type": "code",
   "execution_count": 1,
   "id": "5ad07226",
   "metadata": {},
   "outputs": [],
   "source": [
    "import numpy as np\n",
    "import pandas as pd\n",
    "from numpy.random import default_rng, SeedSequence\n",
    "import scipy.stats as sps\n",
    "import matplotlib.pyplot as plt\n",
    "from scipy.stats import norm\n",
    "import warnings\n",
    "\n",
    "sq = SeedSequence()\n",
    "seed = sq.entropy\n",
    "rng = default_rng(sq)"
   ]
  },
  {
   "cell_type": "markdown",
   "id": "e183e619",
   "metadata": {},
   "source": [
    "### Tools"
   ]
  },
  {
   "cell_type": "code",
   "execution_count": 2,
   "id": "3cbd35df",
   "metadata": {},
   "outputs": [],
   "source": [
    "def brownian_1d(n_times: int, n_paths: int, \n",
    "                final_time: float=1.0, \n",
    "                increments: bool=False, \n",
    "                random_state: np.random.Generator=rng) -> np.array:\n",
    "    \"\"\"Simulate paths of standard Brownian motion\n",
    "    Args:\n",
    "        n_times: Number of timesteps\n",
    "        n_paths: Number of paths \n",
    "        final_time: Final time of simulation\n",
    "        increments: If `True` the increments of the paths are returned.\n",
    "        random_state: `np.random.Generator` used for simulation\n",
    "    Returns:\n",
    "        `np.array` of shape `(n_times+1, n_paths)` containing the paths if the argument `increments` is `False`\n",
    "        `np.array` of shape `(n_times, n_paths)` containing the increments if the argument `increments` is `True`\n",
    "    \"\"\"\n",
    "    dB = np.sqrt(final_time / n_times) * random_state.standard_normal((n_times, n_paths))\n",
    "    if increments:\n",
    "        return dB\n",
    "    else:\n",
    "        brownian = np.zeros((n_times+1, n_paths))\n",
    "        brownian[1:] = np.cumsum(dB, axis=0)\n",
    "        return brownian"
   ]
  },
  {
   "cell_type": "code",
   "execution_count": 3,
   "id": "95506b23",
   "metadata": {},
   "outputs": [],
   "source": [
    "def black_scholes_1d(n_times: int, n_paths: int, \n",
    "                     final_time: float=1.0, \n",
    "                     random_state: np.random.Generator=rng, *,\n",
    "                     init_value: float,\n",
    "                     r: float, sigma: float) -> np.array:\n",
    "    \"\"\"Simulate paths of Black-Scholes process\n",
    "    Args:\n",
    "        n_times: Number of timesteps\n",
    "        n_paths: Number of paths \n",
    "        final_time: Final time of simulation\n",
    "        init_value: `S0`\n",
    "        r: Interest rate\n",
    "        sigma: Volatility\n",
    "        random_state: `np.random.Generator` used for simulation\n",
    "    Returns:\n",
    "        `np.array` of shape `(n_times+1, n_paths)` containing the paths \n",
    "    \"\"\"\n",
    "    Bt = brownian_1d(n_times, n_paths)\n",
    "    times = np.arange(n_times+1)*(1/n_times)\n",
    "    t = times[:, np.newaxis]\n",
    "    St = init_value * np.exp((r - 0.5*sigma**2)*t + sigma*Bt)\n",
    "    return St"
   ]
  },
  {
   "cell_type": "code",
   "execution_count": 4,
   "id": "f6295d54",
   "metadata": {},
   "outputs": [],
   "source": [
    "# une fonction BS pour un payoff qui n'est pas path-dependent (offre plus de liberté pour le choix des gaussiennes dans la fonction)\n",
    "def BS(x,r,sigma,T,N):\n",
    "    \"\"\" args :\n",
    "            x=spot\n",
    "            r=interest rate\n",
    "            sigma=volatility\n",
    "            T=maturity\n",
    "            N=simulated standard normal random variable\n",
    "    \"\"\"\n",
    "    return  x*np.exp((r-(sigma**2)/2)*T+sigma*np.sqrt(T)*N)\n",
    "\n",
    "# une fonction de payoff du call et sa dérivée par rapport à S_T\n",
    "def payoff_call(S,r,T,K): return np.exp(-r*T)*np.maximum(S-K,0)\n",
    "def payoff_put(S,r,T,K): return np.exp(-r*T)*np.maximum(K-S,0)\n",
    "\n",
    "def call_derive(S,r,T,K): return np.exp(-r*T)*np.where(S>K,1,0)"
   ]
  },
  {
   "cell_type": "code",
   "execution_count": 5,
   "id": "b4d25e1f",
   "metadata": {},
   "outputs": [],
   "source": [
    "def monte_carlo(sample, proba = 0.95):\n",
    "    mean = np.mean(sample)\n",
    "    var = np.var(sample, ddof=1)\n",
    "    alpha = 1 - proba \n",
    "    quantile = norm.ppf(1 - alpha/2)  # fonction quantile \n",
    "    ci_size = quantile * np.sqrt(var / sample.size)\n",
    "    return (mean, var, mean - ci_size, mean + ci_size)"
   ]
  },
  {
   "cell_type": "code",
   "execution_count": 6,
   "id": "245bbfb2",
   "metadata": {},
   "outputs": [],
   "source": [
    "# Les formules fermées de Black-Scholes pour vérifier nos méthodes de MC\n",
    "\n",
    "def d1(spot, t, r, sigma, strike):\n",
    "    return (np.log(spot / strike) + t * (r + 0.5*sigma**2)) / (sigma * np.sqrt(t))\n",
    "\n",
    "def d2(spot, t, r, sigma, strike):\n",
    "    return d1(spot, t, r, sigma, strike) - sigma * np.sqrt(t)\n",
    "\n",
    "def price_call_BS(spot, t, r, sigma, strike):\n",
    "    d1_ = d1(spot, t, r, sigma, strike)\n",
    "    d2_ = d2(spot, t, r, sigma, strike)\n",
    "    return spot * norm.cdf(d1_) - strike * np.exp(-r * t) * norm.cdf(d2_)\n",
    "\n",
    "def delta_BS(spot, t, r, sigma, strike):\n",
    "    d1_ = d1(spot, t, r, sigma, strike)\n",
    "    return norm.cdf(d1_)"
   ]
  },
  {
   "cell_type": "markdown",
   "id": "6bf772c9",
   "metadata": {},
   "source": [
    "### Standard MC"
   ]
  },
  {
   "cell_type": "code",
   "execution_count": 7,
   "id": "242f1541",
   "metadata": {},
   "outputs": [],
   "source": [
    "# Fixons les paramètres\n",
    "\n",
    "S0 = 100\n",
    "T=1\n",
    "K=100\n",
    "r, sigma = 0.04, 0.20"
   ]
  },
  {
   "cell_type": "code",
   "execution_count": 8,
   "id": "1cf4381e",
   "metadata": {},
   "outputs": [
    {
     "data": {
      "text/html": [
       "<div>\n",
       "<style scoped>\n",
       "    .dataframe tbody tr th:only-of-type {\n",
       "        vertical-align: middle;\n",
       "    }\n",
       "\n",
       "    .dataframe tbody tr th {\n",
       "        vertical-align: top;\n",
       "    }\n",
       "\n",
       "    .dataframe thead th {\n",
       "        text-align: right;\n",
       "    }\n",
       "</style>\n",
       "<table border=\"1\" class=\"dataframe\">\n",
       "  <thead>\n",
       "    <tr style=\"text-align: right;\">\n",
       "      <th></th>\n",
       "      <th>1000</th>\n",
       "      <th>10000</th>\n",
       "      <th>100000</th>\n",
       "      <th>1000000</th>\n",
       "      <th>10000000</th>\n",
       "    </tr>\n",
       "  </thead>\n",
       "  <tbody>\n",
       "    <tr>\n",
       "      <th>Mean</th>\n",
       "      <td>9.712122</td>\n",
       "      <td>10.042327</td>\n",
       "      <td>9.886496</td>\n",
       "      <td>9.926891</td>\n",
       "      <td>9.926359</td>\n",
       "    </tr>\n",
       "    <tr>\n",
       "      <th>Var</th>\n",
       "      <td>189.080850</td>\n",
       "      <td>207.154298</td>\n",
       "      <td>206.833680</td>\n",
       "      <td>208.259954</td>\n",
       "      <td>207.870333</td>\n",
       "    </tr>\n",
       "    <tr>\n",
       "      <th>Lower</th>\n",
       "      <td>8.859863</td>\n",
       "      <td>9.760233</td>\n",
       "      <td>9.797359</td>\n",
       "      <td>9.898607</td>\n",
       "      <td>9.917422</td>\n",
       "    </tr>\n",
       "    <tr>\n",
       "      <th>Upper</th>\n",
       "      <td>10.564382</td>\n",
       "      <td>10.324422</td>\n",
       "      <td>9.975634</td>\n",
       "      <td>9.955176</td>\n",
       "      <td>9.935295</td>\n",
       "    </tr>\n",
       "  </tbody>\n",
       "</table>\n",
       "</div>"
      ],
      "text/plain": [
       "         1000        10000       100000      1000000     10000000\n",
       "Mean     9.712122   10.042327    9.886496    9.926891    9.926359\n",
       "Var    189.080850  207.154298  206.833680  208.259954  207.870333\n",
       "Lower    8.859863    9.760233    9.797359    9.898607    9.917422\n",
       "Upper   10.564382   10.324422    9.975634    9.955176    9.935295"
      ]
     },
     "execution_count": 8,
     "metadata": {},
     "output_type": "execute_result"
    }
   ],
   "source": [
    "Ms = 10**np.arange(3, 8)\n",
    "results = pd.DataFrame(index=['Mean', 'Var', 'Lower', 'Upper'], columns=Ms)\n",
    "for M in Ms:\n",
    "    gaussiennes = rng.standard_normal(M)\n",
    "    payoffs=payoff_call(BS(x=S0,r=r,sigma=sigma,T=T,N=gaussiennes),r=r,T=T,K=K)\n",
    "    results[M] = monte_carlo(payoffs)\n",
    "results"
   ]
  },
  {
   "cell_type": "code",
   "execution_count": 9,
   "id": "f003f22a",
   "metadata": {},
   "outputs": [
    {
     "data": {
      "text/plain": [
       "9.925053717274437"
      ]
     },
     "execution_count": 9,
     "metadata": {},
     "output_type": "execute_result"
    }
   ],
   "source": [
    "price_call_BS(S0, T, r, sigma, K)"
   ]
  },
  {
   "cell_type": "markdown",
   "id": "c2685bef",
   "metadata": {},
   "source": [
    "# Importance Sampling"
   ]
  },
  {
   "cell_type": "markdown",
   "id": "d2739225",
   "metadata": {},
   "source": [
    "We want to estimate :\n",
    "$$\n",
    "e^{-rT}\\mathbb E(\\Phi(X_T^x))=\\mathbb E(h(Z))\n",
    "$$\n",
    "where $\\Phi$ is the payoff function and $Z \\sim \\mathcal N(0,1)$."
   ]
  },
  {
   "cell_type": "markdown",
   "id": "9e293967",
   "metadata": {},
   "source": [
    "Importance sampling method : lets introduce $Y_\\theta := Z+\\theta$ with pdf $f_\\theta$ and we estimate :\n",
    "$$\n",
    "\\mathbb E(\\frac{h(Y_\\theta)\\mathcal N(Y_\\theta)}{f_\\theta(Y_\\theta)})=e^\\frac{\\theta^2}{2} \\mathbb E(h(Y_\\theta)e^{-\\theta Y_\\theta})\n",
    "$$"
   ]
  },
  {
   "cell_type": "markdown",
   "id": "71e7d603",
   "metadata": {},
   "source": [
    "For a standard call, when x<<K (deep OTM), most of the simulations of $h(Z)$ yield zero."
   ]
  },
  {
   "cell_type": "markdown",
   "id": "ed482ab7",
   "metadata": {},
   "source": [
    "Objective : recenter simulations of $X_T^x$ around the strike replacing $Z$ by $Z+\\theta_0$ and let's look for $\\theta_0$ which minimizes variance."
   ]
  },
  {
   "cell_type": "code",
   "execution_count": 38,
   "id": "ebece9e4",
   "metadata": {},
   "outputs": [],
   "source": [
    "# Fixons les paramètres (paramètres OTM)\n",
    "S0 = 80\n",
    "T=1\n",
    "K=100\n",
    "r, sigma = 0.04, 0.20"
   ]
  },
  {
   "cell_type": "code",
   "execution_count": 39,
   "id": "95a55545",
   "metadata": {},
   "outputs": [],
   "source": [
    "# on choisit le payoff Phi comme étant le payoff d'un call standard\n",
    "def h(z):\n",
    "    ST=S0*np.exp((r-0.5*sigma**2)*T+sigma*np.sqrt(T)*z)\n",
    "    return payoff_call(ST,r,T,K)"
   ]
  },
  {
   "cell_type": "code",
   "execution_count": 40,
   "id": "77847d74",
   "metadata": {},
   "outputs": [],
   "source": [
    "def var_theta(theta) :\n",
    "    M=10**6\n",
    "    results = pd.DataFrame(index=['Mean', 'Var', 'Lower', 'Upper'])\n",
    "    gaussiennes = rng.standard_normal(M)\n",
    "    payoffs=np.exp(0.5*theta**2)*h(gaussiennes+theta)*np.exp(-theta*(gaussiennes+theta))\n",
    "    results[M] = monte_carlo(payoffs)\n",
    "    return results"
   ]
  },
  {
   "cell_type": "code",
   "execution_count": 41,
   "id": "46a35222",
   "metadata": {},
   "outputs": [
    {
     "data": {
      "image/png": "[encoded data removed]",
      "text/plain": [
       "<Figure size 1000x400 with 2 Axes>"
      ]
     },
     "metadata": {},
     "output_type": "display_data"
    }
   ],
   "source": [
    "fig,(ax1,ax2)=plt.subplots(nrows=1, ncols=2, figsize=(10, 4))\n",
    "\n",
    "Theta=np.arange(-10,11)\n",
    "mean=[]\n",
    "variance=[]\n",
    "for theta in Theta:\n",
    "    mean.append(var_theta(theta).iloc[0,0])\n",
    "    variance.append(var_theta(theta).iloc[1,0])\n",
    "    \n",
    "\n",
    "ax1.plot(Theta, mean)\n",
    "ax1.axhline(y=price_call_BS(spot=S0, t=T, r=r, sigma=sigma, strike=K), color='r', linestyle='--', label='Prix exact Call')\n",
    "ax1.legend()\n",
    "ax1.set_xlabel('Theta')\n",
    "ax1.set_title('Mean')\n",
    "\n",
    "ax2.plot(Theta, variance)\n",
    "ax2.set_xlabel('Theta')\n",
    "ax2.set_title('Variance')\n",
    "\n",
    "plt.show()"
   ]
  },
  {
   "cell_type": "markdown",
   "id": "0ffa6e9b",
   "metadata": {},
   "source": [
    "By knowing the exact price from the closed-form formula, we observe that the search domain for $\\theta$ that minimizes the variance is within the range (-1, 5), as this $\\theta$ must ensure the stability of the simulation and the proper convergence of the price. We also note that this is indeed a range where we can look for the $\\theta$ that minimizes the variance, as the graph on the right shows that the variance is low within this range."
   ]
  },
  {
   "cell_type": "code",
   "execution_count": 42,
   "id": "a1ab9daa",
   "metadata": {
    "scrolled": false
   },
   "outputs": [
    {
     "data": {
      "image/png": "[encoded data removed]",
      "text/plain": [
       "<Figure size 1000x400 with 2 Axes>"
      ]
     },
     "metadata": {},
     "output_type": "display_data"
    }
   ],
   "source": [
    "fig,(ax1,ax2)=plt.subplots(nrows=1, ncols=2, figsize=(10, 4))\n",
    "Theta=np.arange(-1,5,0.1)\n",
    "mean=[]\n",
    "variance=[]\n",
    "for theta in Theta:\n",
    "    mean.append(var_theta(theta).iloc[0,0])\n",
    "    variance.append(var_theta(theta).iloc[1,0])\n",
    "\n",
    "theta0=Theta[np.argmin(variance)]\n",
    "\n",
    "ax1.plot(Theta, mean)\n",
    "ax1.axvline(x=theta0, color='r', linestyle='--', label=r'$\\theta_0$ minimise la variance')\n",
    "ax1.set_ylim(1.5,1.9)\n",
    "ax1.set_xlabel('Theta')\n",
    "ax1.set_title('Mean')\n",
    "ax1.legend()\n",
    "\n",
    "ax2.plot(Theta, variance)\n",
    "ax2.axvline(x=theta0, color='r', linestyle='--')\n",
    "ax2.set_ylim(0,50)\n",
    "ax2.set_xlabel('Theta')\n",
    "ax2.set_title('Variance')\n",
    "\n",
    "\n",
    "plt.show()"
   ]
  },
  {
   "cell_type": "markdown",
   "id": "3eddf980",
   "metadata": {},
   "source": [
    "We can now apply the MC methods and compare the variances."
   ]
  },
  {
   "cell_type": "code",
   "execution_count": 43,
   "id": "674908a8",
   "metadata": {},
   "outputs": [
    {
     "data": {
      "text/html": [
       "<div>\n",
       "<style scoped>\n",
       "    .dataframe tbody tr th:only-of-type {\n",
       "        vertical-align: middle;\n",
       "    }\n",
       "\n",
       "    .dataframe tbody tr th {\n",
       "        vertical-align: top;\n",
       "    }\n",
       "\n",
       "    .dataframe thead th {\n",
       "        text-align: right;\n",
       "    }\n",
       "</style>\n",
       "<table border=\"1\" class=\"dataframe\">\n",
       "  <thead>\n",
       "    <tr style=\"text-align: right;\">\n",
       "      <th></th>\n",
       "      <th>1000</th>\n",
       "      <th>10000</th>\n",
       "      <th>100000</th>\n",
       "      <th>1000000</th>\n",
       "      <th>10000000</th>\n",
       "    </tr>\n",
       "  </thead>\n",
       "  <tbody>\n",
       "    <tr>\n",
       "      <th>Mean</th>\n",
       "      <td>2.087005</td>\n",
       "      <td>1.827168</td>\n",
       "      <td>1.705550</td>\n",
       "      <td>1.703937</td>\n",
       "      <td>1.703784</td>\n",
       "    </tr>\n",
       "    <tr>\n",
       "      <th>Var</th>\n",
       "      <td>39.511990</td>\n",
       "      <td>33.696724</td>\n",
       "      <td>31.464542</td>\n",
       "      <td>31.690195</td>\n",
       "      <td>31.738966</td>\n",
       "    </tr>\n",
       "    <tr>\n",
       "      <th>Lower</th>\n",
       "      <td>1.697411</td>\n",
       "      <td>1.713394</td>\n",
       "      <td>1.670784</td>\n",
       "      <td>1.692904</td>\n",
       "      <td>1.700292</td>\n",
       "    </tr>\n",
       "    <tr>\n",
       "      <th>Upper</th>\n",
       "      <td>2.476600</td>\n",
       "      <td>1.940941</td>\n",
       "      <td>1.740317</td>\n",
       "      <td>1.714970</td>\n",
       "      <td>1.707276</td>\n",
       "    </tr>\n",
       "  </tbody>\n",
       "</table>\n",
       "</div>"
      ],
      "text/plain": [
       "        1000       10000      100000     1000000    10000000\n",
       "Mean    2.087005   1.827168   1.705550   1.703937   1.703784\n",
       "Var    39.511990  33.696724  31.464542  31.690195  31.738966\n",
       "Lower   1.697411   1.713394   1.670784   1.692904   1.700292\n",
       "Upper   2.476600   1.940941   1.740317   1.714970   1.707276"
      ]
     },
     "execution_count": 43,
     "metadata": {},
     "output_type": "execute_result"
    }
   ],
   "source": [
    "# sans réduction\n",
    "\n",
    "Ms = 10**np.arange(3, 8)\n",
    "results = pd.DataFrame(index=['Mean', 'Var', 'Lower', 'Upper'], columns=Ms)\n",
    "for M in Ms:\n",
    "    gaussiennes = rng.standard_normal(M)\n",
    "    payoffs=payoff_call(BS(x=S0,r=r,sigma=sigma,T=T,N=gaussiennes),r=r,T=T,K=K)\n",
    "    results[M] = monte_carlo(payoffs)\n",
    "results"
   ]
  },
  {
   "cell_type": "code",
   "execution_count": 44,
   "id": "ca95de53",
   "metadata": {},
   "outputs": [
    {
     "data": {
      "text/html": [
       "<div>\n",
       "<style scoped>\n",
       "    .dataframe tbody tr th:only-of-type {\n",
       "        vertical-align: middle;\n",
       "    }\n",
       "\n",
       "    .dataframe tbody tr th {\n",
       "        vertical-align: top;\n",
       "    }\n",
       "\n",
       "    .dataframe thead th {\n",
       "        text-align: right;\n",
       "    }\n",
       "</style>\n",
       "<table border=\"1\" class=\"dataframe\">\n",
       "  <thead>\n",
       "    <tr style=\"text-align: right;\">\n",
       "      <th></th>\n",
       "      <th>1000</th>\n",
       "      <th>10000</th>\n",
       "      <th>100000</th>\n",
       "      <th>1000000</th>\n",
       "      <th>10000000</th>\n",
       "    </tr>\n",
       "  </thead>\n",
       "  <tbody>\n",
       "    <tr>\n",
       "      <th>Mean</th>\n",
       "      <td>1.631183</td>\n",
       "      <td>1.709792</td>\n",
       "      <td>1.705068</td>\n",
       "      <td>1.706215</td>\n",
       "      <td>1.705902</td>\n",
       "    </tr>\n",
       "    <tr>\n",
       "      <th>Var</th>\n",
       "      <td>1.528551</td>\n",
       "      <td>1.516178</td>\n",
       "      <td>1.544139</td>\n",
       "      <td>1.542228</td>\n",
       "      <td>1.541173</td>\n",
       "    </tr>\n",
       "    <tr>\n",
       "      <th>Lower</th>\n",
       "      <td>1.554555</td>\n",
       "      <td>1.685658</td>\n",
       "      <td>1.697366</td>\n",
       "      <td>1.703781</td>\n",
       "      <td>1.705132</td>\n",
       "    </tr>\n",
       "    <tr>\n",
       "      <th>Upper</th>\n",
       "      <td>1.707811</td>\n",
       "      <td>1.733925</td>\n",
       "      <td>1.712769</td>\n",
       "      <td>1.708649</td>\n",
       "      <td>1.706671</td>\n",
       "    </tr>\n",
       "  </tbody>\n",
       "</table>\n",
       "</div>"
      ],
      "text/plain": [
       "       1000      10000     100000    1000000   10000000\n",
       "Mean   1.631183  1.709792  1.705068  1.706215  1.705902\n",
       "Var    1.528551  1.516178  1.544139  1.542228  1.541173\n",
       "Lower  1.554555  1.685658  1.697366  1.703781  1.705132\n",
       "Upper  1.707811  1.733925  1.712769  1.708649  1.706671"
      ]
     },
     "execution_count": 44,
     "metadata": {},
     "output_type": "execute_result"
    }
   ],
   "source": [
    "# échantillonnage préférentiel\n",
    "\n",
    "Ms = 10**np.arange(3, 8)\n",
    "results = pd.DataFrame(index=['Mean', 'Var', 'Lower', 'Upper'], columns=Ms)\n",
    "for M in Ms:\n",
    "    Y = rng.standard_normal(M)+theta0\n",
    "    payoffs=payoff_call(BS(x=S0,r=r,sigma=sigma,T=T,N=Y),r=r,T=T,K=K)*np.exp(-theta0*Y)*np.exp(0.5*theta0**2)\n",
    "    results[M] = monte_carlo(payoffs)\n",
    "results"
   ]
  },
  {
   "cell_type": "markdown",
   "id": "c5109c92",
   "metadata": {},
   "source": [
    "Important variance reduction observed"
   ]
  }
 ],
 "metadata": {
  "kernelspec": {
   "display_name": "Python 3 (ipykernel)",
   "language": "python",
   "name": "python3"
  },
  "language_info": {
   "codemirror_mode": {
    "name": "ipython",
    "version": 3
   },
   "file_extension": ".py",
   "mimetype": "text/x-python",
   "name": "python",
   "nbconvert_exporter": "python",
   "pygments_lexer": "ipython3",
   "version": "3.8.17"
  }
 },
 "nbformat": 4,
 "nbformat_minor": 5
}
