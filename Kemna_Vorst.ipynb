{
 "cells": [
  {
   "cell_type": "markdown",
   "id": "87f82c8d",
   "metadata": {},
   "source": [
    "# Variables de Kemna-Vorst : options asiatiques"
   ]
  },
  {
   "cell_type": "code",
   "execution_count": 1,
   "id": "5ad07226",
   "metadata": {},
   "outputs": [],
   "source": [
    "import numpy as np\n",
    "import pandas as pd\n",
    "from numpy.random import default_rng, SeedSequence\n",
    "import scipy.stats as sps\n",
    "import matplotlib.pyplot as plt\n",
    "from scipy.stats import norm\n",
    "import warnings\n",
    "\n",
    "sq = SeedSequence()\n",
    "seed = sq.entropy\n",
    "rng = default_rng(sq)"
   ]
  },
  {
   "cell_type": "markdown",
   "id": "e183e619",
   "metadata": {},
   "source": [
    "### Outils : générateur de browniens, de trajectoires BS, formule de payoff, formules fermées de BS"
   ]
  },
  {
   "cell_type": "code",
   "execution_count": 2,
   "id": "3cbd35df",
   "metadata": {},
   "outputs": [],
   "source": [
    "def brownian_1d(n_times: int, n_paths: int, \n",
    "                final_time: float=1.0, \n",
    "                increments: bool=False, \n",
    "                random_state: np.random.Generator=rng) -> np.array:\n",
    "    \"\"\"Simulate paths of standard Brownian motion\n",
    "    Args:\n",
    "        n_times: Number of timesteps\n",
    "        n_paths: Number of paths \n",
    "        final_time: Final time of simulation\n",
    "        increments: If `True` the increments of the paths are returned.\n",
    "        random_state: `np.random.Generator` used for simulation\n",
    "    Returns:\n",
    "        `np.array` of shape `(n_times+1, n_paths)` containing the paths if the argument `increments` is `False`\n",
    "        `np.array` of shape `(n_times, n_paths)` containing the increments if the argument `increments` is `True`\n",
    "    \"\"\"\n",
    "    dB = np.sqrt(final_time / n_times) * random_state.standard_normal((n_times, n_paths))\n",
    "    if increments:\n",
    "        return dB\n",
    "    else:\n",
    "        brownian = np.zeros((n_times+1, n_paths))\n",
    "        brownian[1:] = np.cumsum(dB, axis=0)\n",
    "        return brownian"
   ]
  },
  {
   "cell_type": "code",
   "execution_count": 3,
   "id": "95506b23",
   "metadata": {},
   "outputs": [],
   "source": [
    "def black_scholes_1d(n_times: int, n_paths: int, \n",
    "                     final_time: float=1.0, \n",
    "                     random_state: np.random.Generator=rng, *,\n",
    "                     init_value: float,\n",
    "                     r: float, sigma: float) -> np.array:\n",
    "    \"\"\"Simulate paths of Black-Scholes process\n",
    "    Args:\n",
    "        n_times: Number of timesteps\n",
    "        n_paths: Number of paths \n",
    "        final_time: Final time of simulation\n",
    "        init_value: `S0`\n",
    "        r: Interest rate\n",
    "        sigma: Volatility\n",
    "        random_state: `np.random.Generator` used for simulation\n",
    "    Returns:\n",
    "        `np.array` of shape `(n_times+1, n_paths)` containing the paths \n",
    "    \"\"\"\n",
    "    Bt = brownian_1d(n_times, n_paths)\n",
    "    times = np.arange(n_times+1)*(1/n_times)\n",
    "    t = times[:, np.newaxis]\n",
    "    St = init_value * np.exp((r - 0.5*sigma**2)*t + sigma*Bt)\n",
    "    return St"
   ]
  },
  {
   "cell_type": "code",
   "execution_count": 4,
   "id": "f6295d54",
   "metadata": {},
   "outputs": [],
   "source": [
    "# une fonction BS pour un payoff qui n'est pas path-dependent (offre plus de liberté pour le choix des gaussiennes dans la fonction)\n",
    "def BS(x,r,sigma,T,N):\n",
    "    \"\"\" args :\n",
    "            x=spot\n",
    "            r=interest rate\n",
    "            sigma=volatility\n",
    "            T=maturity\n",
    "            N=simulated standard normal random variable\n",
    "    \"\"\"\n",
    "    return  x*np.exp((r-(sigma**2)/2)*T+sigma*np.sqrt(T)*N)\n",
    "\n",
    "# une fonction de payoff du call et sa dérivée par rapport à S_T\n",
    "def payoff_call(S,r,T,K): return np.exp(-r*T)*np.maximum(S-K,0)\n",
    "def payoff_put(S,r,T,K): return np.exp(-r*T)*np.maximum(K-S,0)\n",
    "\n",
    "def call_derive(S,r,T,K): return np.exp(-r*T)*np.where(S>K,1,0)"
   ]
  },
  {
   "cell_type": "code",
   "execution_count": 5,
   "id": "b4d25e1f",
   "metadata": {},
   "outputs": [],
   "source": [
    "def monte_carlo(sample, proba = 0.95):\n",
    "    mean = np.mean(sample)\n",
    "    var = np.var(sample, ddof=1)\n",
    "    alpha = 1 - proba \n",
    "    quantile = norm.ppf(1 - alpha/2)  # fonction quantile \n",
    "    ci_size = quantile * np.sqrt(var / sample.size)\n",
    "    return (mean, var, mean - ci_size, mean + ci_size)"
   ]
  },
  {
   "cell_type": "code",
   "execution_count": 6,
   "id": "245bbfb2",
   "metadata": {},
   "outputs": [],
   "source": [
    "# Les formules fermées de Black-Scholes pour vérifier nos méthodes de MC\n",
    "\n",
    "def d1(spot, t, r, sigma, strike):\n",
    "    return (np.log(spot / strike) + t * (r + 0.5*sigma**2)) / (sigma * np.sqrt(t))\n",
    "\n",
    "def d2(spot, t, r, sigma, strike):\n",
    "    return d1(spot, t, r, sigma, strike) - sigma * np.sqrt(t)\n",
    "\n",
    "def price_call_BS(spot, t, r, sigma, strike):\n",
    "    d1_ = d1(spot, t, r, sigma, strike)\n",
    "    d2_ = d2(spot, t, r, sigma, strike)\n",
    "    return spot * norm.cdf(d1_) - strike * np.exp(-r * t) * norm.cdf(d2_)\n",
    "\n",
    "def delta_BS(spot, t, r, sigma, strike):\n",
    "    d1_ = d1(spot, t, r, sigma, strike)\n",
    "    return norm.cdf(d1_)"
   ]
  },
  {
   "cell_type": "markdown",
   "id": "6bf772c9",
   "metadata": {},
   "source": [
    "### Pour tester nos fonctions : Pricing MC standard"
   ]
  },
  {
   "cell_type": "code",
   "execution_count": 7,
   "id": "242f1541",
   "metadata": {},
   "outputs": [],
   "source": [
    "# Fixons les paramètres\n",
    "\n",
    "S0 = 100\n",
    "T=1\n",
    "K=100\n",
    "r, sigma = 0.04, 0.20"
   ]
  },
  {
   "cell_type": "code",
   "execution_count": 8,
   "id": "1cf4381e",
   "metadata": {},
   "outputs": [
    {
     "data": {
      "text/html": [
       "<div>\n",
       "<style scoped>\n",
       "    .dataframe tbody tr th:only-of-type {\n",
       "        vertical-align: middle;\n",
       "    }\n",
       "\n",
       "    .dataframe tbody tr th {\n",
       "        vertical-align: top;\n",
       "    }\n",
       "\n",
       "    .dataframe thead th {\n",
       "        text-align: right;\n",
       "    }\n",
       "</style>\n",
       "<table border=\"1\" class=\"dataframe\">\n",
       "  <thead>\n",
       "    <tr style=\"text-align: right;\">\n",
       "      <th></th>\n",
       "      <th>1000</th>\n",
       "      <th>10000</th>\n",
       "      <th>100000</th>\n",
       "      <th>1000000</th>\n",
       "      <th>10000000</th>\n",
       "    </tr>\n",
       "  </thead>\n",
       "  <tbody>\n",
       "    <tr>\n",
       "      <th>Mean</th>\n",
       "      <td>9.712122</td>\n",
       "      <td>10.042327</td>\n",
       "      <td>9.886496</td>\n",
       "      <td>9.926891</td>\n",
       "      <td>9.926359</td>\n",
       "    </tr>\n",
       "    <tr>\n",
       "      <th>Var</th>\n",
       "      <td>189.080850</td>\n",
       "      <td>207.154298</td>\n",
       "      <td>206.833680</td>\n",
       "      <td>208.259954</td>\n",
       "      <td>207.870333</td>\n",
       "    </tr>\n",
       "    <tr>\n",
       "      <th>Lower</th>\n",
       "      <td>8.859863</td>\n",
       "      <td>9.760233</td>\n",
       "      <td>9.797359</td>\n",
       "      <td>9.898607</td>\n",
       "      <td>9.917422</td>\n",
       "    </tr>\n",
       "    <tr>\n",
       "      <th>Upper</th>\n",
       "      <td>10.564382</td>\n",
       "      <td>10.324422</td>\n",
       "      <td>9.975634</td>\n",
       "      <td>9.955176</td>\n",
       "      <td>9.935295</td>\n",
       "    </tr>\n",
       "  </tbody>\n",
       "</table>\n",
       "</div>"
      ],
      "text/plain": [
       "         1000        10000       100000      1000000     10000000\n",
       "Mean     9.712122   10.042327    9.886496    9.926891    9.926359\n",
       "Var    189.080850  207.154298  206.833680  208.259954  207.870333\n",
       "Lower    8.859863    9.760233    9.797359    9.898607    9.917422\n",
       "Upper   10.564382   10.324422    9.975634    9.955176    9.935295"
      ]
     },
     "execution_count": 8,
     "metadata": {},
     "output_type": "execute_result"
    }
   ],
   "source": [
    "Ms = 10**np.arange(3, 8)\n",
    "results = pd.DataFrame(index=['Mean', 'Var', 'Lower', 'Upper'], columns=Ms)\n",
    "for M in Ms:\n",
    "    gaussiennes = rng.standard_normal(M)\n",
    "    payoffs=payoff_call(BS(x=S0,r=r,sigma=sigma,T=T,N=gaussiennes),r=r,T=T,K=K)\n",
    "    results[M] = monte_carlo(payoffs)\n",
    "results"
   ]
  },
  {
   "cell_type": "code",
   "execution_count": 9,
   "id": "f003f22a",
   "metadata": {},
   "outputs": [
    {
     "data": {
      "text/plain": [
       "9.925053717274437"
      ]
     },
     "execution_count": 9,
     "metadata": {},
     "output_type": "execute_result"
    }
   ],
   "source": [
    "price_call_BS(S0, T, r, sigma, K)"
   ]
  },
  {
   "cell_type": "code",
   "execution_count": null,
   "id": "220c46af",
   "metadata": {},
   "outputs": [],
   "source": []
  },
  {
   "cell_type": "markdown",
   "id": "8536d652",
   "metadata": {},
   "source": [
    "Méthode de Monte Carlo standard :\n",
    "$$\n",
    " e^{-rT} \\mathbb E(\\phi (I))\n",
    "$$\n",
    "Méthode de Kemna-Vorst :\n",
    "$$\n",
    " e^{-rT}\\mathbb E(\\phi (I) - k^{KV})+ Premium(xe^{-(\\frac{r}{2}+\\frac{\\sigma^2}{12})T},r,\\frac{\\sigma}{\\sqrt3},T)\n",
    "$$"
   ]
  },
  {
   "cell_type": "markdown",
   "id": "c43b0f78",
   "metadata": {},
   "source": [
    "## Pricing option asiatique sans réduction de variance"
   ]
  },
  {
   "cell_type": "code",
   "execution_count": 29,
   "id": "917bffb6",
   "metadata": {},
   "outputs": [
    {
     "data": {
      "text/html": [
       "<div>\n",
       "<style scoped>\n",
       "    .dataframe tbody tr th:only-of-type {\n",
       "        vertical-align: middle;\n",
       "    }\n",
       "\n",
       "    .dataframe tbody tr th {\n",
       "        vertical-align: top;\n",
       "    }\n",
       "\n",
       "    .dataframe thead th {\n",
       "        text-align: right;\n",
       "    }\n",
       "</style>\n",
       "<table border=\"1\" class=\"dataframe\">\n",
       "  <thead>\n",
       "    <tr style=\"text-align: right;\">\n",
       "      <th></th>\n",
       "      <th>1000</th>\n",
       "      <th>10000</th>\n",
       "      <th>100000</th>\n",
       "    </tr>\n",
       "  </thead>\n",
       "  <tbody>\n",
       "    <tr>\n",
       "      <th>Mean</th>\n",
       "      <td>16.608182</td>\n",
       "      <td>16.482610</td>\n",
       "      <td>16.435522</td>\n",
       "    </tr>\n",
       "    <tr>\n",
       "      <th>Var</th>\n",
       "      <td>144.889252</td>\n",
       "      <td>152.064239</td>\n",
       "      <td>150.956510</td>\n",
       "    </tr>\n",
       "    <tr>\n",
       "      <th>Lower</th>\n",
       "      <td>15.862135</td>\n",
       "      <td>16.240918</td>\n",
       "      <td>16.359371</td>\n",
       "    </tr>\n",
       "    <tr>\n",
       "      <th>Upper</th>\n",
       "      <td>17.354229</td>\n",
       "      <td>16.724301</td>\n",
       "      <td>16.511672</td>\n",
       "    </tr>\n",
       "  </tbody>\n",
       "</table>\n",
       "</div>"
      ],
      "text/plain": [
       "           1000        10000       100000\n",
       "Mean    16.608182   16.482610   16.435522\n",
       "Var    144.889252  152.064239  150.956510\n",
       "Lower   15.862135   16.240918   16.359371\n",
       "Upper   17.354229   16.724301   16.511672"
      ]
     },
     "execution_count": 29,
     "metadata": {},
     "output_type": "execute_result"
    }
   ],
   "source": [
    "t=500\n",
    "T=0.5\n",
    "r=0.02\n",
    "K=97\n",
    "S0=112\n",
    "sigma=0.2\n",
    "\n",
    "Ms = 10**np.arange(3, 6)\n",
    "results = pd.DataFrame(index=['Mean', 'Var', 'Lower', 'Upper'], columns=Ms)\n",
    "for M in Ms:\n",
    "    I=np.mean(black_scholes_1d(n_times=t,n_paths=M,final_time=T,init_value=S0,r=r,sigma=sigma),axis=0)\n",
    "    payoffs=payoff_call(I,r=r,T=T,K=K)\n",
    "    results[M] = monte_carlo(payoffs)\n",
    "results"
   ]
  },
  {
   "cell_type": "markdown",
   "id": "1f594c97",
   "metadata": {},
   "source": [
    "## Méthode Kemna-Vorst"
   ]
  },
  {
   "cell_type": "markdown",
   "id": "9f372567",
   "metadata": {},
   "source": [
    "Comme précédemment, on calcule d'abord la prime."
   ]
  },
  {
   "cell_type": "code",
   "execution_count": 30,
   "id": "34178796",
   "metadata": {},
   "outputs": [
    {
     "data": {
      "text/plain": [
       "15.340826261694772"
      ]
     },
     "execution_count": 30,
     "metadata": {},
     "output_type": "execute_result"
    }
   ],
   "source": [
    "# Calcule de la prime\n",
    "premium=price_call_BS(spot=S0*np.exp(-((r/2)+(sigma**2)/12)*T), t=T, r=r, sigma=sigma/np.sqrt(3), strike=K)\n",
    "premium"
   ]
  },
  {
   "cell_type": "markdown",
   "id": "51fa19eb",
   "metadata": {},
   "source": [
    "On calcule maintenant l'espérance à laquelle on ajoute la prime."
   ]
  },
  {
   "cell_type": "code",
   "execution_count": 31,
   "id": "dde3377c",
   "metadata": {},
   "outputs": [],
   "source": [
    "# une fonction qui renvoie une trajectoire BS pour des Browniens déjà simulés, pour plus de flexibilité\n",
    "\n",
    "def BS_browniens(browniens:np.array,n_times: int,\n",
    "                     final_time: float, \n",
    "                     init_value: float,\n",
    "                     r: float, sigma: float) -> np.array:\n",
    "    \n",
    "    Bt = browniens\n",
    "    times = np.arange(n_times+1)*(1/n_times)\n",
    "    t = times[:, np.newaxis]\n",
    "    St = init_value * np.exp((r - 0.5*sigma**2)*t + sigma*Bt)\n",
    "    return St"
   ]
  },
  {
   "cell_type": "code",
   "execution_count": 32,
   "id": "767d3cfd",
   "metadata": {},
   "outputs": [],
   "source": [
    "def kVT(phi,r,T,K, browniens):\n",
    "    return phi(S0*np.exp(-((r/2)+(sigma**2)/12)*T)*np.exp((r-(sigma**2)/6)*T+sigma*np.mean(browniens)),r,T,K)"
   ]
  },
  {
   "cell_type": "code",
   "execution_count": 33,
   "id": "bb0f2a78",
   "metadata": {},
   "outputs": [],
   "source": [
    "def asim(browniens,n_times,\n",
    "                     final_time, \n",
    "                     init_value: float,\n",
    "                     r: float, sigma: float):\n",
    "    return (payoff_call(BS_browniens(browniens, n_times, final_time, init_value, r, sigma),r,T,K)-np.exp(-r*T)*kVT(payoff_call,r,T,K,browniens))*np.exp(-r*T)"
   ]
  },
  {
   "cell_type": "code",
   "execution_count": 34,
   "id": "4fa822a2",
   "metadata": {},
   "outputs": [
    {
     "data": {
      "text/html": [
       "<div>\n",
       "<style scoped>\n",
       "    .dataframe tbody tr th:only-of-type {\n",
       "        vertical-align: middle;\n",
       "    }\n",
       "\n",
       "    .dataframe tbody tr th {\n",
       "        vertical-align: top;\n",
       "    }\n",
       "\n",
       "    .dataframe thead th {\n",
       "        text-align: right;\n",
       "    }\n",
       "</style>\n",
       "<table border=\"1\" class=\"dataframe\">\n",
       "  <thead>\n",
       "    <tr style=\"text-align: right;\">\n",
       "      <th></th>\n",
       "      <th>1000</th>\n",
       "      <th>10000</th>\n",
       "      <th>100000</th>\n",
       "    </tr>\n",
       "  </thead>\n",
       "  <tbody>\n",
       "    <tr>\n",
       "      <th>Mean</th>\n",
       "      <td>16.324788</td>\n",
       "      <td>16.420358</td>\n",
       "      <td>16.409622</td>\n",
       "    </tr>\n",
       "    <tr>\n",
       "      <th>Var</th>\n",
       "      <td>101.990380</td>\n",
       "      <td>108.828718</td>\n",
       "      <td>107.979857</td>\n",
       "    </tr>\n",
       "    <tr>\n",
       "      <th>Lower</th>\n",
       "      <td>16.296823</td>\n",
       "      <td>16.411223</td>\n",
       "      <td>16.406744</td>\n",
       "    </tr>\n",
       "    <tr>\n",
       "      <th>Upper</th>\n",
       "      <td>16.352753</td>\n",
       "      <td>16.429492</td>\n",
       "      <td>16.412499</td>\n",
       "    </tr>\n",
       "  </tbody>\n",
       "</table>\n",
       "</div>"
      ],
      "text/plain": [
       "           1000        10000       100000\n",
       "Mean    16.324788   16.420358   16.409622\n",
       "Var    101.990380  108.828718  107.979857\n",
       "Lower   16.296823   16.411223   16.406744\n",
       "Upper   16.352753   16.429492   16.412499"
      ]
     },
     "execution_count": 34,
     "metadata": {},
     "output_type": "execute_result"
    }
   ],
   "source": [
    "# Note : les browniens simulés dans kVT doit être les mêmes que ceux du modèle BS dans l'espérance.\n",
    "\n",
    "Ms = 10**np.arange(3, 6)\n",
    "results = pd.DataFrame(index=['Mean', 'Var', 'Lower', 'Upper'], columns=Ms)\n",
    "for M in Ms:\n",
    "    MB=brownian_1d(n_times=t,n_paths=M,final_time=T)\n",
    "    payoffs=asim(MB,n_times=t,final_time=T,init_value=S0,r=r,sigma=sigma)\n",
    "    results[M] = monte_carlo(payoffs)\n",
    "    results[M].iloc[0]+=premium\n",
    "    results[M].iloc[2:]+=premium\n",
    "results"
   ]
  },
  {
   "cell_type": "markdown",
   "id": "09a95c3f",
   "metadata": {},
   "source": [
    "On constate une variance significativement réduite."
   ]
  }
 ],
 "metadata": {
  "kernelspec": {
   "display_name": "Python 3 (ipykernel)",
   "language": "python",
   "name": "python3"
  },
  "language_info": {
   "codemirror_mode": {
    "name": "ipython",
    "version": 3
   },
   "file_extension": ".py",
   "mimetype": "text/x-python",
   "name": "python",
   "nbconvert_exporter": "python",
   "pygments_lexer": "ipython3",
   "version": "3.8.17"
  }
 },
 "nbformat": 4,
 "nbformat_minor": 5
}
